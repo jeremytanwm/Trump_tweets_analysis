{
 "cells": [
  {
   "cell_type": "markdown",
   "metadata": {},
   "source": [
    "# Problem Statement"
   ]
  },
  {
   "attachments": {},
   "cell_type": "markdown",
   "metadata": {},
   "source": [
    "Stock market is always unpredictable. Banks and traders are always looking out to improve their trading strategies. Any information or indicators that able to give an edge or advantage is always sought after. The President of United States, Donald Trump currently has 87.2 millions followers on Twitter under the handle of @realDonaldTrump. Lucky for traders, the President is highly active on his twitter account and isn't shy about tweeting his views basically on anything. By understanding the impact(positive/negative) of President Trump’s tweets has in the Stock market, this will improve one’s investing/trading strategies.\n",
    "\n",
    "I will analyze President Trump's tweets begining from his presidency in 2017. Using natural language processing(NLP) tools such as topic modeling to assign each tweet a topic, after identifying the topic, each tweet is then assigned a sentiment score which will be used in the modelling. I will build a classification model that will look into the text features of President Trump tweets and how it can be classified to have positive or negative impact on the market. As this model can be use as an indicator for buy and sell signals, we want to want have high accuracy on both true positive and negative therefore our success will be measured by the AUC/ROC score. "
   ]
  },
  {
   "cell_type": "markdown",
   "metadata": {},
   "source": [
    "# Data Cleaning"
   ]
  },
  {
   "cell_type": "code",
   "execution_count": 1,
   "metadata": {},
   "outputs": [],
   "source": [
    "import pandas as pd\n",
    "import numpy as np\n",
    "import re\n",
    "from datetime import datetime, timezone\n",
    "import matplotlib.pyplot as plt\n",
    "import seaborn as sns\n",
    "plt.style.use('seaborn')"
   ]
  },
  {
   "cell_type": "code",
   "execution_count": 2,
   "metadata": {},
   "outputs": [],
   "source": [
    "#load the data from json\n",
    "tweets = pd.read_json(\"../datasets/trump_tweets.json\")"
   ]
  },
  {
   "cell_type": "code",
   "execution_count": 3,
   "metadata": {},
   "outputs": [
    {
     "data": {
      "text/html": [
       "<div>\n",
       "<style scoped>\n",
       "    .dataframe tbody tr th:only-of-type {\n",
       "        vertical-align: middle;\n",
       "    }\n",
       "\n",
       "    .dataframe tbody tr th {\n",
       "        vertical-align: top;\n",
       "    }\n",
       "\n",
       "    .dataframe thead th {\n",
       "        text-align: right;\n",
       "    }\n",
       "</style>\n",
       "<table border=\"1\" class=\"dataframe\">\n",
       "  <thead>\n",
       "    <tr style=\"text-align: right;\">\n",
       "      <th></th>\n",
       "      <th>source</th>\n",
       "      <th>text</th>\n",
       "      <th>created_at</th>\n",
       "      <th>retweet_count</th>\n",
       "      <th>favorite_count</th>\n",
       "      <th>is_retweet</th>\n",
       "      <th>id_str</th>\n",
       "    </tr>\n",
       "  </thead>\n",
       "  <tbody>\n",
       "    <tr>\n",
       "      <th>0</th>\n",
       "      <td>Twitter for iPhone</td>\n",
       "      <td>Mike Pence WON BIG!</td>\n",
       "      <td>2020-10-08 02:57:08+00:00</td>\n",
       "      <td>65210</td>\n",
       "      <td>418654</td>\n",
       "      <td>0.0</td>\n",
       "      <td>1314037081392525312</td>\n",
       "    </tr>\n",
       "    <tr>\n",
       "      <th>1</th>\n",
       "      <td>Twitter for iPhone</td>\n",
       "      <td>https://t.co/yPrw5jqgGV</td>\n",
       "      <td>2020-10-08 02:56:46+00:00</td>\n",
       "      <td>20225</td>\n",
       "      <td>88262</td>\n",
       "      <td>0.0</td>\n",
       "      <td>1314036989226778624</td>\n",
       "    </tr>\n",
       "    <tr>\n",
       "      <th>2</th>\n",
       "      <td>Twitter for iPhone</td>\n",
       "      <td>https://t.co/wHQx2qd8q2</td>\n",
       "      <td>2020-10-08 02:49:05+00:00</td>\n",
       "      <td>23424</td>\n",
       "      <td>79991</td>\n",
       "      <td>0.0</td>\n",
       "      <td>1314035056441257984</td>\n",
       "    </tr>\n",
       "    <tr>\n",
       "      <th>3</th>\n",
       "      <td>Twitter for iPhone</td>\n",
       "      <td>2010 to 2016 under Kamala Harris's watch as \"T...</td>\n",
       "      <td>2020-10-08 02:40:57+00:00</td>\n",
       "      <td>26438</td>\n",
       "      <td>70249</td>\n",
       "      <td>0.0</td>\n",
       "      <td>1314033009293656064</td>\n",
       "    </tr>\n",
       "    <tr>\n",
       "      <th>4</th>\n",
       "      <td>Twitter for iPhone</td>\n",
       "      <td>https://t.co/4Wv5cCFEns https://t.co/kMvBv6Pu9I</td>\n",
       "      <td>2020-10-08 02:24:56+00:00</td>\n",
       "      <td>11798</td>\n",
       "      <td>40743</td>\n",
       "      <td>0.0</td>\n",
       "      <td>1314028978806624256</td>\n",
       "    </tr>\n",
       "    <tr>\n",
       "      <th>5</th>\n",
       "      <td>Twitter for iPhone</td>\n",
       "      <td>https://t.co/rxqPqR4uqZ</td>\n",
       "      <td>2020-10-08 02:23:49+00:00</td>\n",
       "      <td>22052</td>\n",
       "      <td>93256</td>\n",
       "      <td>0.0</td>\n",
       "      <td>1314028699084259328</td>\n",
       "    </tr>\n",
       "    <tr>\n",
       "      <th>6</th>\n",
       "      <td>Twitter for iPhone</td>\n",
       "      <td>https://t.co/xGevgI2wTO</td>\n",
       "      <td>2020-10-08 02:20:57+00:00</td>\n",
       "      <td>16190</td>\n",
       "      <td>54819</td>\n",
       "      <td>0.0</td>\n",
       "      <td>1314027975185182720</td>\n",
       "    </tr>\n",
       "    <tr>\n",
       "      <th>7</th>\n",
       "      <td>Twitter for iPhone</td>\n",
       "      <td>RT @Mike_Pence: https://t.co/30WSe3sXxv</td>\n",
       "      <td>2020-10-08 02:20:18+00:00</td>\n",
       "      <td>16920</td>\n",
       "      <td>0</td>\n",
       "      <td>1.0</td>\n",
       "      <td>1314027813318594560</td>\n",
       "    </tr>\n",
       "    <tr>\n",
       "      <th>8</th>\n",
       "      <td>Twitter for iPhone</td>\n",
       "      <td>RT @Mike_Pence: https://t.co/5suIpyyxVD</td>\n",
       "      <td>2020-10-08 02:11:50+00:00</td>\n",
       "      <td>9380</td>\n",
       "      <td>0</td>\n",
       "      <td>1.0</td>\n",
       "      <td>1314025683174203392</td>\n",
       "    </tr>\n",
       "    <tr>\n",
       "      <th>9</th>\n",
       "      <td>Twitter for iPhone</td>\n",
       "      <td>Moderator cut off @VP Mike Pence while discuss...</td>\n",
       "      <td>2020-10-08 02:09:36+00:00</td>\n",
       "      <td>28864</td>\n",
       "      <td>73680</td>\n",
       "      <td>0.0</td>\n",
       "      <td>1314025119497551872</td>\n",
       "    </tr>\n",
       "  </tbody>\n",
       "</table>\n",
       "</div>"
      ],
      "text/plain": [
       "               source                                               text  \\\n",
       "0  Twitter for iPhone                                Mike Pence WON BIG!   \n",
       "1  Twitter for iPhone                            https://t.co/yPrw5jqgGV   \n",
       "2  Twitter for iPhone                            https://t.co/wHQx2qd8q2   \n",
       "3  Twitter for iPhone  2010 to 2016 under Kamala Harris's watch as \"T...   \n",
       "4  Twitter for iPhone    https://t.co/4Wv5cCFEns https://t.co/kMvBv6Pu9I   \n",
       "5  Twitter for iPhone                            https://t.co/rxqPqR4uqZ   \n",
       "6  Twitter for iPhone                            https://t.co/xGevgI2wTO   \n",
       "7  Twitter for iPhone            RT @Mike_Pence: https://t.co/30WSe3sXxv   \n",
       "8  Twitter for iPhone            RT @Mike_Pence: https://t.co/5suIpyyxVD   \n",
       "9  Twitter for iPhone  Moderator cut off @VP Mike Pence while discuss...   \n",
       "\n",
       "                 created_at  retweet_count  favorite_count  is_retweet  \\\n",
       "0 2020-10-08 02:57:08+00:00          65210          418654         0.0   \n",
       "1 2020-10-08 02:56:46+00:00          20225           88262         0.0   \n",
       "2 2020-10-08 02:49:05+00:00          23424           79991         0.0   \n",
       "3 2020-10-08 02:40:57+00:00          26438           70249         0.0   \n",
       "4 2020-10-08 02:24:56+00:00          11798           40743         0.0   \n",
       "5 2020-10-08 02:23:49+00:00          22052           93256         0.0   \n",
       "6 2020-10-08 02:20:57+00:00          16190           54819         0.0   \n",
       "7 2020-10-08 02:20:18+00:00          16920               0         1.0   \n",
       "8 2020-10-08 02:11:50+00:00           9380               0         1.0   \n",
       "9 2020-10-08 02:09:36+00:00          28864           73680         0.0   \n",
       "\n",
       "                id_str  \n",
       "0  1314037081392525312  \n",
       "1  1314036989226778624  \n",
       "2  1314035056441257984  \n",
       "3  1314033009293656064  \n",
       "4  1314028978806624256  \n",
       "5  1314028699084259328  \n",
       "6  1314027975185182720  \n",
       "7  1314027813318594560  \n",
       "8  1314025683174203392  \n",
       "9  1314025119497551872  "
      ]
     },
     "execution_count": 3,
     "metadata": {},
     "output_type": "execute_result"
    }
   ],
   "source": [
    "tweets.head(10)"
   ]
  },
  {
   "cell_type": "code",
   "execution_count": 4,
   "metadata": {},
   "outputs": [
    {
     "name": "stdout",
     "output_type": "stream",
     "text": [
      "<class 'pandas.core.frame.DataFrame'>\n",
      "RangeIndex: 23357 entries, 0 to 23356\n",
      "Data columns (total 7 columns):\n",
      " #   Column          Non-Null Count  Dtype              \n",
      "---  ------          --------------  -----              \n",
      " 0   source          23357 non-null  object             \n",
      " 1   text            23357 non-null  object             \n",
      " 2   created_at      23357 non-null  datetime64[ns, UTC]\n",
      " 3   retweet_count   23357 non-null  int64              \n",
      " 4   favorite_count  23357 non-null  int64              \n",
      " 5   is_retweet      23299 non-null  float64            \n",
      " 6   id_str          23357 non-null  int64              \n",
      "dtypes: datetime64[ns, UTC](1), float64(1), int64(3), object(2)\n",
      "memory usage: 1.2+ MB\n"
     ]
    }
   ],
   "source": [
    "tweets.info()"
   ]
  },
  {
   "cell_type": "code",
   "execution_count": 5,
   "metadata": {},
   "outputs": [
    {
     "data": {
      "text/plain": [
       "58"
      ]
     },
     "execution_count": 5,
     "metadata": {},
     "output_type": "execute_result"
    }
   ],
   "source": [
    "tweets[\"is_retweet\"].isnull().sum()"
   ]
  },
  {
   "cell_type": "code",
   "execution_count": 6,
   "metadata": {
    "scrolled": true
   },
   "outputs": [
    {
     "data": {
      "text/html": [
       "<div>\n",
       "<style scoped>\n",
       "    .dataframe tbody tr th:only-of-type {\n",
       "        vertical-align: middle;\n",
       "    }\n",
       "\n",
       "    .dataframe tbody tr th {\n",
       "        vertical-align: top;\n",
       "    }\n",
       "\n",
       "    .dataframe thead th {\n",
       "        text-align: right;\n",
       "    }\n",
       "</style>\n",
       "<table border=\"1\" class=\"dataframe\">\n",
       "  <thead>\n",
       "    <tr style=\"text-align: right;\">\n",
       "      <th></th>\n",
       "      <th>source</th>\n",
       "      <th>text</th>\n",
       "      <th>created_at</th>\n",
       "      <th>retweet_count</th>\n",
       "      <th>favorite_count</th>\n",
       "      <th>is_retweet</th>\n",
       "      <th>id_str</th>\n",
       "    </tr>\n",
       "  </thead>\n",
       "  <tbody>\n",
       "    <tr>\n",
       "      <th>20836</th>\n",
       "      <td>Twitter for iPhone</td>\n",
       "      <td>Thanks to all of the Republican and Democratic...</td>\n",
       "      <td>2018-01-09 22:51:50+00:00</td>\n",
       "      <td>11718</td>\n",
       "      <td>58068</td>\n",
       "      <td>NaN</td>\n",
       "      <td>950862709599465472</td>\n",
       "    </tr>\n",
       "    <tr>\n",
       "      <th>20837</th>\n",
       "      <td>Twitter for iPhone</td>\n",
       "      <td>It was my great honor to sign H.R. 267, the “M...</td>\n",
       "      <td>2018-01-09 20:17:17+00:00</td>\n",
       "      <td>17249</td>\n",
       "      <td>73554</td>\n",
       "      <td>NaN</td>\n",
       "      <td>950823813868122112</td>\n",
       "    </tr>\n",
       "    <tr>\n",
       "      <th>20838</th>\n",
       "      <td>Twitter for iPhone</td>\n",
       "      <td>On behalf of the American people, THANK YOU to...</td>\n",
       "      <td>2018-01-09 17:11:23+00:00</td>\n",
       "      <td>26793</td>\n",
       "      <td>112613</td>\n",
       "      <td>NaN</td>\n",
       "      <td>950777029816963072</td>\n",
       "    </tr>\n",
       "    <tr>\n",
       "      <th>20839</th>\n",
       "      <td>Twitter for iPhone</td>\n",
       "      <td>We are fighting for our farmers, for our count...</td>\n",
       "      <td>2018-01-08 23:19:47+00:00</td>\n",
       "      <td>22044</td>\n",
       "      <td>104968</td>\n",
       "      <td>NaN</td>\n",
       "      <td>950507353094356992</td>\n",
       "    </tr>\n",
       "    <tr>\n",
       "      <th>20840</th>\n",
       "      <td>Twitter for iPhone</td>\n",
       "      <td>In every decision we make, we are honoring Ame...</td>\n",
       "      <td>2018-01-08 22:59:37+00:00</td>\n",
       "      <td>17769</td>\n",
       "      <td>81027</td>\n",
       "      <td>NaN</td>\n",
       "      <td>950502279785959424</td>\n",
       "    </tr>\n",
       "    <tr>\n",
       "      <th>20841</th>\n",
       "      <td>Twitter for iPhone</td>\n",
       "      <td>We have been working every day to DELIVER for ...</td>\n",
       "      <td>2018-01-08 22:58:13+00:00</td>\n",
       "      <td>11561</td>\n",
       "      <td>57809</td>\n",
       "      <td>NaN</td>\n",
       "      <td>950501926227136512</td>\n",
       "    </tr>\n",
       "    <tr>\n",
       "      <th>20842</th>\n",
       "      <td>Twitter for iPhone</td>\n",
       "      <td>Can’t wait to be back in the amazing state of ...</td>\n",
       "      <td>2018-01-08 19:06:40+00:00</td>\n",
       "      <td>10242</td>\n",
       "      <td>54355</td>\n",
       "      <td>NaN</td>\n",
       "      <td>950443653666713600</td>\n",
       "    </tr>\n",
       "    <tr>\n",
       "      <th>20843</th>\n",
       "      <td>Twitter for iPhone</td>\n",
       "      <td>African American unemployment is the lowest ev...</td>\n",
       "      <td>2018-01-08 14:20:25+00:00</td>\n",
       "      <td>34648</td>\n",
       "      <td>132122</td>\n",
       "      <td>NaN</td>\n",
       "      <td>950371619247153152</td>\n",
       "    </tr>\n",
       "    <tr>\n",
       "      <th>20844</th>\n",
       "      <td>Twitter for iPhone</td>\n",
       "      <td>...Clinton in the WH, doubling down on Barack ...</td>\n",
       "      <td>2018-01-08 03:24:23+00:00</td>\n",
       "      <td>18904</td>\n",
       "      <td>83265</td>\n",
       "      <td>NaN</td>\n",
       "      <td>950206523690639360</td>\n",
       "    </tr>\n",
       "    <tr>\n",
       "      <th>20845</th>\n",
       "      <td>Twitter for iPhone</td>\n",
       "      <td>“His is turning out to be an enormously conseq...</td>\n",
       "      <td>2018-01-08 03:23:39+00:00</td>\n",
       "      <td>16880</td>\n",
       "      <td>82631</td>\n",
       "      <td>NaN</td>\n",
       "      <td>950206338411499520</td>\n",
       "    </tr>\n",
       "    <tr>\n",
       "      <th>20846</th>\n",
       "      <td>Twitter for iPhone</td>\n",
       "      <td>The Stock Market has been creating tremendous ...</td>\n",
       "      <td>2018-01-07 20:42:13+00:00</td>\n",
       "      <td>20322</td>\n",
       "      <td>100254</td>\n",
       "      <td>NaN</td>\n",
       "      <td>950105312782114816</td>\n",
       "    </tr>\n",
       "    <tr>\n",
       "      <th>20847</th>\n",
       "      <td>Twitter for iPhone</td>\n",
       "      <td>The Fake News Awards, those going to the most ...</td>\n",
       "      <td>2018-01-07 20:35:39+00:00</td>\n",
       "      <td>37762</td>\n",
       "      <td>151191</td>\n",
       "      <td>NaN</td>\n",
       "      <td>950103659337134080</td>\n",
       "    </tr>\n",
       "    <tr>\n",
       "      <th>20848</th>\n",
       "      <td>Twitter for iPhone</td>\n",
       "      <td>Jake Tapper of Fake News CNN just got destroye...</td>\n",
       "      <td>2018-01-07 15:15:50+00:00</td>\n",
       "      <td>29604</td>\n",
       "      <td>123429</td>\n",
       "      <td>NaN</td>\n",
       "      <td>950023175907266560</td>\n",
       "    </tr>\n",
       "    <tr>\n",
       "      <th>20849</th>\n",
       "      <td>Twitter for iPhone</td>\n",
       "      <td>I’ve had to put up with the Fake News from the...</td>\n",
       "      <td>2018-01-07 14:40:06+00:00</td>\n",
       "      <td>31447</td>\n",
       "      <td>153387</td>\n",
       "      <td>NaN</td>\n",
       "      <td>950014185299210240</td>\n",
       "    </tr>\n",
       "    <tr>\n",
       "      <th>20850</th>\n",
       "      <td>Twitter for iPhone</td>\n",
       "      <td>Leaving Camp David for the White House. Great ...</td>\n",
       "      <td>2018-01-07 14:33:10+00:00</td>\n",
       "      <td>15557</td>\n",
       "      <td>81553</td>\n",
       "      <td>NaN</td>\n",
       "      <td>950012437788585984</td>\n",
       "    </tr>\n",
       "    <tr>\n",
       "      <th>20851</th>\n",
       "      <td>Twitter for iPhone</td>\n",
       "      <td>....to President of the United States (on my f...</td>\n",
       "      <td>2018-01-06 12:30:51+00:00</td>\n",
       "      <td>34259</td>\n",
       "      <td>142407</td>\n",
       "      <td>NaN</td>\n",
       "      <td>949619270631256064</td>\n",
       "    </tr>\n",
       "    <tr>\n",
       "      <th>20852</th>\n",
       "      <td>Twitter for iPhone</td>\n",
       "      <td>....Actually, throughout my life, my two great...</td>\n",
       "      <td>2018-01-06 12:27:42+00:00</td>\n",
       "      <td>36376</td>\n",
       "      <td>134915</td>\n",
       "      <td>NaN</td>\n",
       "      <td>949618475877765120</td>\n",
       "    </tr>\n",
       "    <tr>\n",
       "      <th>20853</th>\n",
       "      <td>Twitter for iPhone</td>\n",
       "      <td>Now that Russian collusion, after one year of ...</td>\n",
       "      <td>2018-01-06 12:19:10+00:00</td>\n",
       "      <td>35083</td>\n",
       "      <td>148583</td>\n",
       "      <td>NaN</td>\n",
       "      <td>949616329463615488</td>\n",
       "    </tr>\n",
       "    <tr>\n",
       "      <th>20854</th>\n",
       "      <td>Twitter for iPhone</td>\n",
       "      <td>Brian Ross, the reporter who made a fraudulent...</td>\n",
       "      <td>2018-01-06 11:57:35+00:00</td>\n",
       "      <td>23403</td>\n",
       "      <td>119287</td>\n",
       "      <td>NaN</td>\n",
       "      <td>949610896241946624</td>\n",
       "    </tr>\n",
       "    <tr>\n",
       "      <th>20855</th>\n",
       "      <td>Twitter for iPhone</td>\n",
       "      <td>The African American unemployment rate fell to...</td>\n",
       "      <td>2018-01-06 11:49:02+00:00</td>\n",
       "      <td>32647</td>\n",
       "      <td>144628</td>\n",
       "      <td>NaN</td>\n",
       "      <td>949608746497576960</td>\n",
       "    </tr>\n",
       "    <tr>\n",
       "      <th>20856</th>\n",
       "      <td>Twitter for iPhone</td>\n",
       "      <td>Michael Wolff is a total loser who made up sto...</td>\n",
       "      <td>2018-01-06 04:32:08+00:00</td>\n",
       "      <td>23915</td>\n",
       "      <td>88836</td>\n",
       "      <td>NaN</td>\n",
       "      <td>949498795074736128</td>\n",
       "    </tr>\n",
       "    <tr>\n",
       "      <th>20857</th>\n",
       "      <td>Twitter for iPhone</td>\n",
       "      <td>Good idea Rand! https://t.co/55sqUDiC0s</td>\n",
       "      <td>2018-01-06 04:19:10+00:00</td>\n",
       "      <td>30213</td>\n",
       "      <td>121202</td>\n",
       "      <td>NaN</td>\n",
       "      <td>949495534003412992</td>\n",
       "    </tr>\n",
       "    <tr>\n",
       "      <th>20858</th>\n",
       "      <td>Twitter for iPhone</td>\n",
       "      <td>The Mercer Family recently dumped the leaker k...</td>\n",
       "      <td>2018-01-05 15:34:28+00:00</td>\n",
       "      <td>15927</td>\n",
       "      <td>79778</td>\n",
       "      <td>NaN</td>\n",
       "      <td>949303089416294400</td>\n",
       "    </tr>\n",
       "    <tr>\n",
       "      <th>20859</th>\n",
       "      <td>Twitter for iPhone</td>\n",
       "      <td>Well, now that collusion with Russia is provin...</td>\n",
       "      <td>2018-01-05 14:32:44+00:00</td>\n",
       "      <td>33002</td>\n",
       "      <td>147032</td>\n",
       "      <td>NaN</td>\n",
       "      <td>949287555660500992</td>\n",
       "    </tr>\n",
       "    <tr>\n",
       "      <th>20860</th>\n",
       "      <td>Twitter for iPhone</td>\n",
       "      <td>Dow goes from 18,589 on November 9, 2016, to 2...</td>\n",
       "      <td>2018-01-05 11:35:30+00:00</td>\n",
       "      <td>27115</td>\n",
       "      <td>123316</td>\n",
       "      <td>NaN</td>\n",
       "      <td>949242950659313664</td>\n",
       "    </tr>\n",
       "    <tr>\n",
       "      <th>20861</th>\n",
       "      <td>Twitter for iPhone</td>\n",
       "      <td>The Fake News Media barely mentions the fact t...</td>\n",
       "      <td>2018-01-05 04:04:20+00:00</td>\n",
       "      <td>28059</td>\n",
       "      <td>129174</td>\n",
       "      <td>NaN</td>\n",
       "      <td>949129410208202752</td>\n",
       "    </tr>\n",
       "    <tr>\n",
       "      <th>20862</th>\n",
       "      <td>Twitter for iPhone</td>\n",
       "      <td>I authorized Zero access to White House (actua...</td>\n",
       "      <td>2018-01-05 03:52:53+00:00</td>\n",
       "      <td>23765</td>\n",
       "      <td>101209</td>\n",
       "      <td>NaN</td>\n",
       "      <td>949126530839572480</td>\n",
       "    </tr>\n",
       "    <tr>\n",
       "      <th>20863</th>\n",
       "      <td>Twitter for iPhone</td>\n",
       "      <td>MAKING AMERICA GREAT AGAIN! https://t.co/iONbr...</td>\n",
       "      <td>2018-01-05 00:11:26+00:00</td>\n",
       "      <td>22283</td>\n",
       "      <td>93496</td>\n",
       "      <td>NaN</td>\n",
       "      <td>949070800417640448</td>\n",
       "    </tr>\n",
       "    <tr>\n",
       "      <th>20864</th>\n",
       "      <td>Twitter for iPhone</td>\n",
       "      <td>Thank you to the great Republican Senators who...</td>\n",
       "      <td>2018-01-04 23:53:05+00:00</td>\n",
       "      <td>30271</td>\n",
       "      <td>137534</td>\n",
       "      <td>NaN</td>\n",
       "      <td>949066181381632000</td>\n",
       "    </tr>\n",
       "    <tr>\n",
       "      <th>20865</th>\n",
       "      <td>Twitter for iPhone</td>\n",
       "      <td>Dow just crashes through 25,000. Congrats! Big...</td>\n",
       "      <td>2018-01-04 15:48:04+00:00</td>\n",
       "      <td>23357</td>\n",
       "      <td>118129</td>\n",
       "      <td>NaN</td>\n",
       "      <td>948944124132167680</td>\n",
       "    </tr>\n",
       "    <tr>\n",
       "      <th>20866</th>\n",
       "      <td>Twitter for iPhone</td>\n",
       "      <td>So beautiful....Show this picture to the NFL p...</td>\n",
       "      <td>2018-01-04 11:37:46+00:00</td>\n",
       "      <td>32849</td>\n",
       "      <td>117610</td>\n",
       "      <td>NaN</td>\n",
       "      <td>948881133340708864</td>\n",
       "    </tr>\n",
       "    <tr>\n",
       "      <th>20867</th>\n",
       "      <td>Twitter for iPhone</td>\n",
       "      <td>With all of the failed “experts” weighing in, ...</td>\n",
       "      <td>2018-01-04 11:32:22+00:00</td>\n",
       "      <td>19831</td>\n",
       "      <td>94396</td>\n",
       "      <td>NaN</td>\n",
       "      <td>948879774277128192</td>\n",
       "    </tr>\n",
       "    <tr>\n",
       "      <th>20868</th>\n",
       "      <td>Twitter for iPhone</td>\n",
       "      <td>As Americans, you need identification, sometim...</td>\n",
       "      <td>2018-01-04 11:11:45+00:00</td>\n",
       "      <td>40391</td>\n",
       "      <td>155369</td>\n",
       "      <td>NaN</td>\n",
       "      <td>948874586006925312</td>\n",
       "    </tr>\n",
       "    <tr>\n",
       "      <th>20869</th>\n",
       "      <td>Twitter for iPhone</td>\n",
       "      <td>Many mostly Democrat States refused to hand ov...</td>\n",
       "      <td>2018-01-04 11:02:14+00:00</td>\n",
       "      <td>30929</td>\n",
       "      <td>111192</td>\n",
       "      <td>NaN</td>\n",
       "      <td>948872192284155904</td>\n",
       "    </tr>\n",
       "    <tr>\n",
       "      <th>20870</th>\n",
       "      <td>Twitter for iPhone</td>\n",
       "      <td>MAKE AMERICA GREAT AGAIN!</td>\n",
       "      <td>2018-01-04 02:13:16+00:00</td>\n",
       "      <td>37992</td>\n",
       "      <td>160796</td>\n",
       "      <td>NaN</td>\n",
       "      <td>948739073237311488</td>\n",
       "    </tr>\n",
       "    <tr>\n",
       "      <th>20871</th>\n",
       "      <td>Twitter for iPhone</td>\n",
       "      <td>Stock Market had another good day but, now tha...</td>\n",
       "      <td>2018-01-04 02:11:31+00:00</td>\n",
       "      <td>19850</td>\n",
       "      <td>106397</td>\n",
       "      <td>NaN</td>\n",
       "      <td>948738634722742272</td>\n",
       "    </tr>\n",
       "    <tr>\n",
       "      <th>20872</th>\n",
       "      <td>Twitter for iPhone</td>\n",
       "      <td>“Some 40 U.S. companies have responded to Pres...</td>\n",
       "      <td>2018-01-04 02:07:37+00:00</td>\n",
       "      <td>16718</td>\n",
       "      <td>68324</td>\n",
       "      <td>NaN</td>\n",
       "      <td>948737652119031808</td>\n",
       "    </tr>\n",
       "    <tr>\n",
       "      <th>20873</th>\n",
       "      <td>Twitter for iPhone</td>\n",
       "      <td>Melania and I are deeply saddened by the death...</td>\n",
       "      <td>2018-01-04 01:06:06+00:00</td>\n",
       "      <td>12643</td>\n",
       "      <td>59848</td>\n",
       "      <td>NaN</td>\n",
       "      <td>948722170531893248</td>\n",
       "    </tr>\n",
       "    <tr>\n",
       "      <th>20874</th>\n",
       "      <td>Twitter for iPhone</td>\n",
       "      <td>Such respect for the people of Iran as they tr...</td>\n",
       "      <td>2018-01-03 13:37:13+00:00</td>\n",
       "      <td>30285</td>\n",
       "      <td>147921</td>\n",
       "      <td>NaN</td>\n",
       "      <td>948548807612084224</td>\n",
       "    </tr>\n",
       "    <tr>\n",
       "      <th>20875</th>\n",
       "      <td>Twitter for iPhone</td>\n",
       "      <td>“President Trump has something now he didn’t h...</td>\n",
       "      <td>2018-01-03 04:03:01+00:00</td>\n",
       "      <td>21073</td>\n",
       "      <td>98208</td>\n",
       "      <td>NaN</td>\n",
       "      <td>948404303072460800</td>\n",
       "    </tr>\n",
       "    <tr>\n",
       "      <th>20876</th>\n",
       "      <td>Twitter for iPhone</td>\n",
       "      <td>I will be announcing THE MOST DISHONEST &amp;amp; ...</td>\n",
       "      <td>2018-01-03 01:05:10+00:00</td>\n",
       "      <td>51056</td>\n",
       "      <td>196552</td>\n",
       "      <td>NaN</td>\n",
       "      <td>948359545767841792</td>\n",
       "    </tr>\n",
       "    <tr>\n",
       "      <th>20877</th>\n",
       "      <td>Twitter for iPhone</td>\n",
       "      <td>North Korean Leader Kim Jong Un just stated th...</td>\n",
       "      <td>2018-01-03 00:49:19+00:00</td>\n",
       "      <td>191837</td>\n",
       "      <td>499183</td>\n",
       "      <td>NaN</td>\n",
       "      <td>948355557022420992</td>\n",
       "    </tr>\n",
       "    <tr>\n",
       "      <th>20878</th>\n",
       "      <td>Twitter Web Client</td>\n",
       "      <td>...peace treaty with Israel. We have taken Jer...</td>\n",
       "      <td>2018-01-02 22:37:57+00:00</td>\n",
       "      <td>20000</td>\n",
       "      <td>94008</td>\n",
       "      <td>NaN</td>\n",
       "      <td>948322497602220032</td>\n",
       "    </tr>\n",
       "    <tr>\n",
       "      <th>20879</th>\n",
       "      <td>Twitter Web Client</td>\n",
       "      <td>It's not only Pakistan that we pay billions of...</td>\n",
       "      <td>2018-01-02 22:37:56+00:00</td>\n",
       "      <td>29334</td>\n",
       "      <td>118505</td>\n",
       "      <td>NaN</td>\n",
       "      <td>948322496591384576</td>\n",
       "    </tr>\n",
       "    <tr>\n",
       "      <th>20880</th>\n",
       "      <td>Twitter for iPhone</td>\n",
       "      <td>Congratulations to Senator Orrin Hatch on an a...</td>\n",
       "      <td>2018-01-02 22:23:41+00:00</td>\n",
       "      <td>12392</td>\n",
       "      <td>63280</td>\n",
       "      <td>NaN</td>\n",
       "      <td>948318907848413184</td>\n",
       "    </tr>\n",
       "    <tr>\n",
       "      <th>20881</th>\n",
       "      <td>Twitter for iPhone</td>\n",
       "      <td>We will not rest until all of America’s GREAT ...</td>\n",
       "      <td>2018-01-02 18:11:11+00:00</td>\n",
       "      <td>16301</td>\n",
       "      <td>70544</td>\n",
       "      <td>NaN</td>\n",
       "      <td>948255367393349632</td>\n",
       "    </tr>\n",
       "    <tr>\n",
       "      <th>20882</th>\n",
       "      <td>Twitter for iPhone</td>\n",
       "      <td>Democrats are doing nothing for DACA - just in...</td>\n",
       "      <td>2018-01-02 15:16:38+00:00</td>\n",
       "      <td>18580</td>\n",
       "      <td>87703</td>\n",
       "      <td>NaN</td>\n",
       "      <td>948211438472089600</td>\n",
       "    </tr>\n",
       "    <tr>\n",
       "      <th>20883</th>\n",
       "      <td>Twitter for iPhone</td>\n",
       "      <td>....impartial journalists of a much higher sta...</td>\n",
       "      <td>2018-01-02 14:53:47+00:00</td>\n",
       "      <td>16565</td>\n",
       "      <td>77709</td>\n",
       "      <td>NaN</td>\n",
       "      <td>948205689683562496</td>\n",
       "    </tr>\n",
       "    <tr>\n",
       "      <th>20884</th>\n",
       "      <td>Twitter for iPhone</td>\n",
       "      <td>The Failing New York Times has a new publisher...</td>\n",
       "      <td>2018-01-02 14:39:49+00:00</td>\n",
       "      <td>18011</td>\n",
       "      <td>79447</td>\n",
       "      <td>NaN</td>\n",
       "      <td>948202173049049088</td>\n",
       "    </tr>\n",
       "    <tr>\n",
       "      <th>20885</th>\n",
       "      <td>Twitter for iPhone</td>\n",
       "      <td>Since taking office I have been very strict on...</td>\n",
       "      <td>2018-01-02 14:13:13+00:00</td>\n",
       "      <td>16249</td>\n",
       "      <td>88764</td>\n",
       "      <td>NaN</td>\n",
       "      <td>948195478428102656</td>\n",
       "    </tr>\n",
       "    <tr>\n",
       "      <th>20886</th>\n",
       "      <td>Twitter for iPhone</td>\n",
       "      <td>Sanctions and “other” pressures are beginning ...</td>\n",
       "      <td>2018-01-02 14:08:56+00:00</td>\n",
       "      <td>17379</td>\n",
       "      <td>77959</td>\n",
       "      <td>NaN</td>\n",
       "      <td>948194400114487296</td>\n",
       "    </tr>\n",
       "    <tr>\n",
       "      <th>20887</th>\n",
       "      <td>Twitter for iPhone</td>\n",
       "      <td>Companies are giving big bonuses to their work...</td>\n",
       "      <td>2018-01-02 13:49:23+00:00</td>\n",
       "      <td>15628</td>\n",
       "      <td>87020</td>\n",
       "      <td>NaN</td>\n",
       "      <td>948189482284707840</td>\n",
       "    </tr>\n",
       "    <tr>\n",
       "      <th>20888</th>\n",
       "      <td>Twitter for iPhone</td>\n",
       "      <td>Thank you to Brandon Judd of the National Bord...</td>\n",
       "      <td>2018-01-02 13:44:33+00:00</td>\n",
       "      <td>14478</td>\n",
       "      <td>69628</td>\n",
       "      <td>NaN</td>\n",
       "      <td>948188264858603520</td>\n",
       "    </tr>\n",
       "    <tr>\n",
       "      <th>20889</th>\n",
       "      <td>Twitter for iPhone</td>\n",
       "      <td>Crooked Hillary Clinton’s top aid, Huma Abedin...</td>\n",
       "      <td>2018-01-02 12:48:00+00:00</td>\n",
       "      <td>37561</td>\n",
       "      <td>130933</td>\n",
       "      <td>NaN</td>\n",
       "      <td>948174033882927104</td>\n",
       "    </tr>\n",
       "    <tr>\n",
       "      <th>20890</th>\n",
       "      <td>Twitter for iPhone</td>\n",
       "      <td>The people of Iran are finally acting against ...</td>\n",
       "      <td>2018-01-02 12:09:17+00:00</td>\n",
       "      <td>28227</td>\n",
       "      <td>105965</td>\n",
       "      <td>NaN</td>\n",
       "      <td>948164289591902208</td>\n",
       "    </tr>\n",
       "    <tr>\n",
       "      <th>20891</th>\n",
       "      <td>Twitter for iPhone</td>\n",
       "      <td>Will be leaving Florida for Washington (D.C.) ...</td>\n",
       "      <td>2018-01-01 13:37:52+00:00</td>\n",
       "      <td>16884</td>\n",
       "      <td>114754</td>\n",
       "      <td>NaN</td>\n",
       "      <td>947824196909961216</td>\n",
       "    </tr>\n",
       "    <tr>\n",
       "      <th>20892</th>\n",
       "      <td>Twitter for iPhone</td>\n",
       "      <td>Iran is failing at every level despite the ter...</td>\n",
       "      <td>2018-01-01 12:44:40+00:00</td>\n",
       "      <td>29046</td>\n",
       "      <td>111467</td>\n",
       "      <td>NaN</td>\n",
       "      <td>947810806430826496</td>\n",
       "    </tr>\n",
       "    <tr>\n",
       "      <th>20893</th>\n",
       "      <td>Twitter for iPhone</td>\n",
       "      <td>The United States has foolishly given Pakistan...</td>\n",
       "      <td>2018-01-01 12:12:00+00:00</td>\n",
       "      <td>101056</td>\n",
       "      <td>304676</td>\n",
       "      <td>NaN</td>\n",
       "      <td>947802588174577664</td>\n",
       "    </tr>\n",
       "  </tbody>\n",
       "</table>\n",
       "</div>"
      ],
      "text/plain": [
       "                   source                                               text  \\\n",
       "20836  Twitter for iPhone  Thanks to all of the Republican and Democratic...   \n",
       "20837  Twitter for iPhone  It was my great honor to sign H.R. 267, the “M...   \n",
       "20838  Twitter for iPhone  On behalf of the American people, THANK YOU to...   \n",
       "20839  Twitter for iPhone  We are fighting for our farmers, for our count...   \n",
       "20840  Twitter for iPhone  In every decision we make, we are honoring Ame...   \n",
       "20841  Twitter for iPhone  We have been working every day to DELIVER for ...   \n",
       "20842  Twitter for iPhone  Can’t wait to be back in the amazing state of ...   \n",
       "20843  Twitter for iPhone  African American unemployment is the lowest ev...   \n",
       "20844  Twitter for iPhone  ...Clinton in the WH, doubling down on Barack ...   \n",
       "20845  Twitter for iPhone  “His is turning out to be an enormously conseq...   \n",
       "20846  Twitter for iPhone  The Stock Market has been creating tremendous ...   \n",
       "20847  Twitter for iPhone  The Fake News Awards, those going to the most ...   \n",
       "20848  Twitter for iPhone  Jake Tapper of Fake News CNN just got destroye...   \n",
       "20849  Twitter for iPhone  I’ve had to put up with the Fake News from the...   \n",
       "20850  Twitter for iPhone  Leaving Camp David for the White House. Great ...   \n",
       "20851  Twitter for iPhone  ....to President of the United States (on my f...   \n",
       "20852  Twitter for iPhone  ....Actually, throughout my life, my two great...   \n",
       "20853  Twitter for iPhone  Now that Russian collusion, after one year of ...   \n",
       "20854  Twitter for iPhone  Brian Ross, the reporter who made a fraudulent...   \n",
       "20855  Twitter for iPhone  The African American unemployment rate fell to...   \n",
       "20856  Twitter for iPhone  Michael Wolff is a total loser who made up sto...   \n",
       "20857  Twitter for iPhone            Good idea Rand! https://t.co/55sqUDiC0s   \n",
       "20858  Twitter for iPhone  The Mercer Family recently dumped the leaker k...   \n",
       "20859  Twitter for iPhone  Well, now that collusion with Russia is provin...   \n",
       "20860  Twitter for iPhone  Dow goes from 18,589 on November 9, 2016, to 2...   \n",
       "20861  Twitter for iPhone  The Fake News Media barely mentions the fact t...   \n",
       "20862  Twitter for iPhone  I authorized Zero access to White House (actua...   \n",
       "20863  Twitter for iPhone  MAKING AMERICA GREAT AGAIN! https://t.co/iONbr...   \n",
       "20864  Twitter for iPhone  Thank you to the great Republican Senators who...   \n",
       "20865  Twitter for iPhone  Dow just crashes through 25,000. Congrats! Big...   \n",
       "20866  Twitter for iPhone  So beautiful....Show this picture to the NFL p...   \n",
       "20867  Twitter for iPhone  With all of the failed “experts” weighing in, ...   \n",
       "20868  Twitter for iPhone  As Americans, you need identification, sometim...   \n",
       "20869  Twitter for iPhone  Many mostly Democrat States refused to hand ov...   \n",
       "20870  Twitter for iPhone                          MAKE AMERICA GREAT AGAIN!   \n",
       "20871  Twitter for iPhone  Stock Market had another good day but, now tha...   \n",
       "20872  Twitter for iPhone  “Some 40 U.S. companies have responded to Pres...   \n",
       "20873  Twitter for iPhone  Melania and I are deeply saddened by the death...   \n",
       "20874  Twitter for iPhone  Such respect for the people of Iran as they tr...   \n",
       "20875  Twitter for iPhone  “President Trump has something now he didn’t h...   \n",
       "20876  Twitter for iPhone  I will be announcing THE MOST DISHONEST &amp; ...   \n",
       "20877  Twitter for iPhone  North Korean Leader Kim Jong Un just stated th...   \n",
       "20878  Twitter Web Client  ...peace treaty with Israel. We have taken Jer...   \n",
       "20879  Twitter Web Client  It's not only Pakistan that we pay billions of...   \n",
       "20880  Twitter for iPhone  Congratulations to Senator Orrin Hatch on an a...   \n",
       "20881  Twitter for iPhone  We will not rest until all of America’s GREAT ...   \n",
       "20882  Twitter for iPhone  Democrats are doing nothing for DACA - just in...   \n",
       "20883  Twitter for iPhone  ....impartial journalists of a much higher sta...   \n",
       "20884  Twitter for iPhone  The Failing New York Times has a new publisher...   \n",
       "20885  Twitter for iPhone  Since taking office I have been very strict on...   \n",
       "20886  Twitter for iPhone  Sanctions and “other” pressures are beginning ...   \n",
       "20887  Twitter for iPhone  Companies are giving big bonuses to their work...   \n",
       "20888  Twitter for iPhone  Thank you to Brandon Judd of the National Bord...   \n",
       "20889  Twitter for iPhone  Crooked Hillary Clinton’s top aid, Huma Abedin...   \n",
       "20890  Twitter for iPhone  The people of Iran are finally acting against ...   \n",
       "20891  Twitter for iPhone  Will be leaving Florida for Washington (D.C.) ...   \n",
       "20892  Twitter for iPhone  Iran is failing at every level despite the ter...   \n",
       "20893  Twitter for iPhone  The United States has foolishly given Pakistan...   \n",
       "\n",
       "                     created_at  retweet_count  favorite_count  is_retweet  \\\n",
       "20836 2018-01-09 22:51:50+00:00          11718           58068         NaN   \n",
       "20837 2018-01-09 20:17:17+00:00          17249           73554         NaN   \n",
       "20838 2018-01-09 17:11:23+00:00          26793          112613         NaN   \n",
       "20839 2018-01-08 23:19:47+00:00          22044          104968         NaN   \n",
       "20840 2018-01-08 22:59:37+00:00          17769           81027         NaN   \n",
       "20841 2018-01-08 22:58:13+00:00          11561           57809         NaN   \n",
       "20842 2018-01-08 19:06:40+00:00          10242           54355         NaN   \n",
       "20843 2018-01-08 14:20:25+00:00          34648          132122         NaN   \n",
       "20844 2018-01-08 03:24:23+00:00          18904           83265         NaN   \n",
       "20845 2018-01-08 03:23:39+00:00          16880           82631         NaN   \n",
       "20846 2018-01-07 20:42:13+00:00          20322          100254         NaN   \n",
       "20847 2018-01-07 20:35:39+00:00          37762          151191         NaN   \n",
       "20848 2018-01-07 15:15:50+00:00          29604          123429         NaN   \n",
       "20849 2018-01-07 14:40:06+00:00          31447          153387         NaN   \n",
       "20850 2018-01-07 14:33:10+00:00          15557           81553         NaN   \n",
       "20851 2018-01-06 12:30:51+00:00          34259          142407         NaN   \n",
       "20852 2018-01-06 12:27:42+00:00          36376          134915         NaN   \n",
       "20853 2018-01-06 12:19:10+00:00          35083          148583         NaN   \n",
       "20854 2018-01-06 11:57:35+00:00          23403          119287         NaN   \n",
       "20855 2018-01-06 11:49:02+00:00          32647          144628         NaN   \n",
       "20856 2018-01-06 04:32:08+00:00          23915           88836         NaN   \n",
       "20857 2018-01-06 04:19:10+00:00          30213          121202         NaN   \n",
       "20858 2018-01-05 15:34:28+00:00          15927           79778         NaN   \n",
       "20859 2018-01-05 14:32:44+00:00          33002          147032         NaN   \n",
       "20860 2018-01-05 11:35:30+00:00          27115          123316         NaN   \n",
       "20861 2018-01-05 04:04:20+00:00          28059          129174         NaN   \n",
       "20862 2018-01-05 03:52:53+00:00          23765          101209         NaN   \n",
       "20863 2018-01-05 00:11:26+00:00          22283           93496         NaN   \n",
       "20864 2018-01-04 23:53:05+00:00          30271          137534         NaN   \n",
       "20865 2018-01-04 15:48:04+00:00          23357          118129         NaN   \n",
       "20866 2018-01-04 11:37:46+00:00          32849          117610         NaN   \n",
       "20867 2018-01-04 11:32:22+00:00          19831           94396         NaN   \n",
       "20868 2018-01-04 11:11:45+00:00          40391          155369         NaN   \n",
       "20869 2018-01-04 11:02:14+00:00          30929          111192         NaN   \n",
       "20870 2018-01-04 02:13:16+00:00          37992          160796         NaN   \n",
       "20871 2018-01-04 02:11:31+00:00          19850          106397         NaN   \n",
       "20872 2018-01-04 02:07:37+00:00          16718           68324         NaN   \n",
       "20873 2018-01-04 01:06:06+00:00          12643           59848         NaN   \n",
       "20874 2018-01-03 13:37:13+00:00          30285          147921         NaN   \n",
       "20875 2018-01-03 04:03:01+00:00          21073           98208         NaN   \n",
       "20876 2018-01-03 01:05:10+00:00          51056          196552         NaN   \n",
       "20877 2018-01-03 00:49:19+00:00         191837          499183         NaN   \n",
       "20878 2018-01-02 22:37:57+00:00          20000           94008         NaN   \n",
       "20879 2018-01-02 22:37:56+00:00          29334          118505         NaN   \n",
       "20880 2018-01-02 22:23:41+00:00          12392           63280         NaN   \n",
       "20881 2018-01-02 18:11:11+00:00          16301           70544         NaN   \n",
       "20882 2018-01-02 15:16:38+00:00          18580           87703         NaN   \n",
       "20883 2018-01-02 14:53:47+00:00          16565           77709         NaN   \n",
       "20884 2018-01-02 14:39:49+00:00          18011           79447         NaN   \n",
       "20885 2018-01-02 14:13:13+00:00          16249           88764         NaN   \n",
       "20886 2018-01-02 14:08:56+00:00          17379           77959         NaN   \n",
       "20887 2018-01-02 13:49:23+00:00          15628           87020         NaN   \n",
       "20888 2018-01-02 13:44:33+00:00          14478           69628         NaN   \n",
       "20889 2018-01-02 12:48:00+00:00          37561          130933         NaN   \n",
       "20890 2018-01-02 12:09:17+00:00          28227          105965         NaN   \n",
       "20891 2018-01-01 13:37:52+00:00          16884          114754         NaN   \n",
       "20892 2018-01-01 12:44:40+00:00          29046          111467         NaN   \n",
       "20893 2018-01-01 12:12:00+00:00         101056          304676         NaN   \n",
       "\n",
       "                   id_str  \n",
       "20836  950862709599465472  \n",
       "20837  950823813868122112  \n",
       "20838  950777029816963072  \n",
       "20839  950507353094356992  \n",
       "20840  950502279785959424  \n",
       "20841  950501926227136512  \n",
       "20842  950443653666713600  \n",
       "20843  950371619247153152  \n",
       "20844  950206523690639360  \n",
       "20845  950206338411499520  \n",
       "20846  950105312782114816  \n",
       "20847  950103659337134080  \n",
       "20848  950023175907266560  \n",
       "20849  950014185299210240  \n",
       "20850  950012437788585984  \n",
       "20851  949619270631256064  \n",
       "20852  949618475877765120  \n",
       "20853  949616329463615488  \n",
       "20854  949610896241946624  \n",
       "20855  949608746497576960  \n",
       "20856  949498795074736128  \n",
       "20857  949495534003412992  \n",
       "20858  949303089416294400  \n",
       "20859  949287555660500992  \n",
       "20860  949242950659313664  \n",
       "20861  949129410208202752  \n",
       "20862  949126530839572480  \n",
       "20863  949070800417640448  \n",
       "20864  949066181381632000  \n",
       "20865  948944124132167680  \n",
       "20866  948881133340708864  \n",
       "20867  948879774277128192  \n",
       "20868  948874586006925312  \n",
       "20869  948872192284155904  \n",
       "20870  948739073237311488  \n",
       "20871  948738634722742272  \n",
       "20872  948737652119031808  \n",
       "20873  948722170531893248  \n",
       "20874  948548807612084224  \n",
       "20875  948404303072460800  \n",
       "20876  948359545767841792  \n",
       "20877  948355557022420992  \n",
       "20878  948322497602220032  \n",
       "20879  948322496591384576  \n",
       "20880  948318907848413184  \n",
       "20881  948255367393349632  \n",
       "20882  948211438472089600  \n",
       "20883  948205689683562496  \n",
       "20884  948202173049049088  \n",
       "20885  948195478428102656  \n",
       "20886  948194400114487296  \n",
       "20887  948189482284707840  \n",
       "20888  948188264858603520  \n",
       "20889  948174033882927104  \n",
       "20890  948164289591902208  \n",
       "20891  947824196909961216  \n",
       "20892  947810806430826496  \n",
       "20893  947802588174577664  "
      ]
     },
     "execution_count": 6,
     "metadata": {},
     "output_type": "execute_result"
    }
   ],
   "source": [
    "tweets[tweets[\"is_retweet\"].isnull()]"
   ]
  },
  {
   "cell_type": "markdown",
   "metadata": {},
   "source": [
    "After investigating the null values in \"is_retweet\", we have conclude that they are not retweets and hence will assign 0 to it."
   ]
  },
  {
   "cell_type": "code",
   "execution_count": 7,
   "metadata": {},
   "outputs": [],
   "source": [
    "tweets[\"is_retweet\"].fillna(0, inplace=True)"
   ]
  },
  {
   "cell_type": "code",
   "execution_count": 8,
   "metadata": {},
   "outputs": [
    {
     "data": {
      "text/plain": [
       "0"
      ]
     },
     "execution_count": 8,
     "metadata": {},
     "output_type": "execute_result"
    }
   ],
   "source": [
    "tweets[\"is_retweet\"].isnull().sum()"
   ]
  },
  {
   "cell_type": "code",
   "execution_count": 9,
   "metadata": {},
   "outputs": [],
   "source": [
    "#drop the columns that does not provide useful information\n",
    "tweets.drop(columns=[\"source\", \"id_str\"], inplace=True)"
   ]
  },
  {
   "cell_type": "markdown",
   "metadata": {},
   "source": [
    "Donald trump seems to tweet alot of pictures/videos which are url links that at this point we are unable to interpret, hence we decided to remove url links from the text as it does not provide any information. In this inital cleaning we also remove punctuations and the twitter handler sign @"
   ]
  },
  {
   "cell_type": "code",
   "execution_count": 10,
   "metadata": {},
   "outputs": [],
   "source": [
    "#create function to clean the text\n",
    "def clean_text(text):\n",
    "    return \" \".join(re.sub(r\"(\\w+://.+)|(@[a-zA-Z0-9]+)|([^A-Za-z0-9])\" , \" \", text).split())\n",
    "\n",
    "        "
   ]
  },
  {
   "cell_type": "code",
   "execution_count": 11,
   "metadata": {},
   "outputs": [],
   "source": [
    "tweets['clean_text'] = tweets['text'].apply(lambda text: clean_text(text))"
   ]
  },
  {
   "cell_type": "code",
   "execution_count": 12,
   "metadata": {},
   "outputs": [],
   "source": [
    "#remove rows that have spaces only\n",
    "for i in range(len(tweets['clean_text'])):\n",
    "    if len(tweets['clean_text'][i]) < 1:\n",
    "        tweets.drop(index=i, inplace=True)\n",
    "        "
   ]
  },
  {
   "cell_type": "code",
   "execution_count": 13,
   "metadata": {},
   "outputs": [],
   "source": [
    "#reset the index\n",
    "tweets.reset_index(drop=True, inplace=True)"
   ]
  },
  {
   "cell_type": "code",
   "execution_count": 14,
   "metadata": {},
   "outputs": [
    {
     "data": {
      "text/plain": [
       "(22395, 6)"
      ]
     },
     "execution_count": 14,
     "metadata": {},
     "output_type": "execute_result"
    }
   ],
   "source": [
    "tweets.shape"
   ]
  },
  {
   "cell_type": "markdown",
   "metadata": {},
   "source": [
    "The data collected was on UTC time, as we are trying to predict if trump tweet has any impact on the stock market, we have to convert to the same timezone which is US/Eastern."
   ]
  },
  {
   "cell_type": "code",
   "execution_count": 15,
   "metadata": {},
   "outputs": [],
   "source": [
    "#create a function to convert timezone\n",
    "def convert_time(time):\n",
    "    return time.astimezone(tz=\"US/Eastern\")"
   ]
  },
  {
   "cell_type": "code",
   "execution_count": 16,
   "metadata": {},
   "outputs": [],
   "source": [
    "tweets[\"created_at\"]  = tweets[\"created_at\"].apply(lambda x: convert_time(x))"
   ]
  },
  {
   "cell_type": "code",
   "execution_count": 17,
   "metadata": {},
   "outputs": [],
   "source": [
    "tweets[\"year\"] = tweets[\"created_at\"].dt.year"
   ]
  },
  {
   "cell_type": "code",
   "execution_count": 18,
   "metadata": {},
   "outputs": [],
   "source": [
    "tweets[\"month\"] = tweets[\"created_at\"].dt.month"
   ]
  },
  {
   "cell_type": "code",
   "execution_count": 19,
   "metadata": {},
   "outputs": [],
   "source": [
    "tweets[\"day\"] = tweets[\"created_at\"].dt.day"
   ]
  },
  {
   "cell_type": "code",
   "execution_count": 20,
   "metadata": {},
   "outputs": [],
   "source": [
    "tweets[\"time\"] = tweets[\"created_at\"].dt.time"
   ]
  },
  {
   "cell_type": "code",
   "execution_count": 21,
   "metadata": {},
   "outputs": [],
   "source": [
    "tweets[\"year_month\"] = tweets[\"created_at\"].dt.strftime(\"%Y-%m\")"
   ]
  },
  {
   "cell_type": "code",
   "execution_count": 22,
   "metadata": {},
   "outputs": [],
   "source": [
    "tweets[\"day_of_week\"] = tweets[\"created_at\"].dt.weekday"
   ]
  },
  {
   "cell_type": "code",
   "execution_count": 23,
   "metadata": {},
   "outputs": [],
   "source": [
    "tweets[\"hour_of_day\"] = tweets[\"created_at\"].dt.strftime(\"%H\")"
   ]
  },
  {
   "cell_type": "code",
   "execution_count": 24,
   "metadata": {},
   "outputs": [
    {
     "data": {
      "text/plain": [
       "(22395, 13)"
      ]
     },
     "execution_count": 24,
     "metadata": {},
     "output_type": "execute_result"
    }
   ],
   "source": [
    "tweets.shape"
   ]
  },
  {
   "cell_type": "markdown",
   "metadata": {},
   "source": [
    "Trump also have alot of retweets, by extracting the handlers of his retweet might give us more insights. "
   ]
  },
  {
   "cell_type": "code",
   "execution_count": 25,
   "metadata": {},
   "outputs": [],
   "source": [
    "def find_handler(text):\n",
    "        handler = re.search(r\"(@[\\w]+)\", text)\n",
    "        \n",
    "        if handler != None:\n",
    "            return re.search(r\"(@[\\w]+)\", text).group(0)\n",
    "        else:\n",
    "            return None\n",
    "                       "
   ]
  },
  {
   "cell_type": "code",
   "execution_count": 26,
   "metadata": {},
   "outputs": [],
   "source": [
    "tweets[\"handler\"] = tweets[\"text\"].apply(lambda handler: find_handler(handler))"
   ]
  },
  {
   "cell_type": "code",
   "execution_count": 27,
   "metadata": {},
   "outputs": [
    {
     "data": {
      "text/plain": [
       "(22395, 14)"
      ]
     },
     "execution_count": 27,
     "metadata": {},
     "output_type": "execute_result"
    }
   ],
   "source": [
    "tweets.shape"
   ]
  },
  {
   "cell_type": "code",
   "execution_count": 28,
   "metadata": {},
   "outputs": [
    {
     "data": {
      "text/html": [
       "<div>\n",
       "<style scoped>\n",
       "    .dataframe tbody tr th:only-of-type {\n",
       "        vertical-align: middle;\n",
       "    }\n",
       "\n",
       "    .dataframe tbody tr th {\n",
       "        vertical-align: top;\n",
       "    }\n",
       "\n",
       "    .dataframe thead th {\n",
       "        text-align: right;\n",
       "    }\n",
       "</style>\n",
       "<table border=\"1\" class=\"dataframe\">\n",
       "  <thead>\n",
       "    <tr style=\"text-align: right;\">\n",
       "      <th></th>\n",
       "      <th>text</th>\n",
       "      <th>created_at</th>\n",
       "      <th>retweet_count</th>\n",
       "      <th>favorite_count</th>\n",
       "      <th>is_retweet</th>\n",
       "      <th>clean_text</th>\n",
       "      <th>year</th>\n",
       "      <th>month</th>\n",
       "      <th>day</th>\n",
       "      <th>time</th>\n",
       "      <th>year_month</th>\n",
       "      <th>day_of_week</th>\n",
       "      <th>hour_of_day</th>\n",
       "      <th>handler</th>\n",
       "    </tr>\n",
       "  </thead>\n",
       "  <tbody>\n",
       "    <tr>\n",
       "      <th>0</th>\n",
       "      <td>Mike Pence WON BIG!</td>\n",
       "      <td>2020-10-07 22:57:08-04:00</td>\n",
       "      <td>65210</td>\n",
       "      <td>418654</td>\n",
       "      <td>0.0</td>\n",
       "      <td>Mike Pence WON BIG</td>\n",
       "      <td>2020</td>\n",
       "      <td>10</td>\n",
       "      <td>7</td>\n",
       "      <td>22:57:08</td>\n",
       "      <td>2020-10</td>\n",
       "      <td>2</td>\n",
       "      <td>22</td>\n",
       "      <td>None</td>\n",
       "    </tr>\n",
       "    <tr>\n",
       "      <th>1</th>\n",
       "      <td>2010 to 2016 under Kamala Harris's watch as \"T...</td>\n",
       "      <td>2020-10-07 22:40:57-04:00</td>\n",
       "      <td>26438</td>\n",
       "      <td>70249</td>\n",
       "      <td>0.0</td>\n",
       "      <td>2010 to 2016 under Kamala Harris s watch as TO...</td>\n",
       "      <td>2020</td>\n",
       "      <td>10</td>\n",
       "      <td>7</td>\n",
       "      <td>22:40:57</td>\n",
       "      <td>2020-10</td>\n",
       "      <td>2</td>\n",
       "      <td>22</td>\n",
       "      <td>None</td>\n",
       "    </tr>\n",
       "    <tr>\n",
       "      <th>2</th>\n",
       "      <td>RT @Mike_Pence: https://t.co/30WSe3sXxv</td>\n",
       "      <td>2020-10-07 22:20:18-04:00</td>\n",
       "      <td>16920</td>\n",
       "      <td>0</td>\n",
       "      <td>1.0</td>\n",
       "      <td>RT Pence</td>\n",
       "      <td>2020</td>\n",
       "      <td>10</td>\n",
       "      <td>7</td>\n",
       "      <td>22:20:18</td>\n",
       "      <td>2020-10</td>\n",
       "      <td>2</td>\n",
       "      <td>22</td>\n",
       "      <td>@Mike_Pence</td>\n",
       "    </tr>\n",
       "    <tr>\n",
       "      <th>3</th>\n",
       "      <td>RT @Mike_Pence: https://t.co/5suIpyyxVD</td>\n",
       "      <td>2020-10-07 22:11:50-04:00</td>\n",
       "      <td>9380</td>\n",
       "      <td>0</td>\n",
       "      <td>1.0</td>\n",
       "      <td>RT Pence</td>\n",
       "      <td>2020</td>\n",
       "      <td>10</td>\n",
       "      <td>7</td>\n",
       "      <td>22:11:50</td>\n",
       "      <td>2020-10</td>\n",
       "      <td>2</td>\n",
       "      <td>22</td>\n",
       "      <td>@Mike_Pence</td>\n",
       "    </tr>\n",
       "    <tr>\n",
       "      <th>4</th>\n",
       "      <td>Moderator cut off @VP Mike Pence while discuss...</td>\n",
       "      <td>2020-10-07 22:09:36-04:00</td>\n",
       "      <td>28864</td>\n",
       "      <td>73680</td>\n",
       "      <td>0.0</td>\n",
       "      <td>Moderator cut off Mike Pence while discussing ...</td>\n",
       "      <td>2020</td>\n",
       "      <td>10</td>\n",
       "      <td>7</td>\n",
       "      <td>22:09:36</td>\n",
       "      <td>2020-10</td>\n",
       "      <td>2</td>\n",
       "      <td>22</td>\n",
       "      <td>@VP</td>\n",
       "    </tr>\n",
       "  </tbody>\n",
       "</table>\n",
       "</div>"
      ],
      "text/plain": [
       "                                                text  \\\n",
       "0                                Mike Pence WON BIG!   \n",
       "1  2010 to 2016 under Kamala Harris's watch as \"T...   \n",
       "2            RT @Mike_Pence: https://t.co/30WSe3sXxv   \n",
       "3            RT @Mike_Pence: https://t.co/5suIpyyxVD   \n",
       "4  Moderator cut off @VP Mike Pence while discuss...   \n",
       "\n",
       "                 created_at  retweet_count  favorite_count  is_retweet  \\\n",
       "0 2020-10-07 22:57:08-04:00          65210          418654         0.0   \n",
       "1 2020-10-07 22:40:57-04:00          26438           70249         0.0   \n",
       "2 2020-10-07 22:20:18-04:00          16920               0         1.0   \n",
       "3 2020-10-07 22:11:50-04:00           9380               0         1.0   \n",
       "4 2020-10-07 22:09:36-04:00          28864           73680         0.0   \n",
       "\n",
       "                                          clean_text  year  month  day  \\\n",
       "0                                 Mike Pence WON BIG  2020     10    7   \n",
       "1  2010 to 2016 under Kamala Harris s watch as TO...  2020     10    7   \n",
       "2                                           RT Pence  2020     10    7   \n",
       "3                                           RT Pence  2020     10    7   \n",
       "4  Moderator cut off Mike Pence while discussing ...  2020     10    7   \n",
       "\n",
       "       time year_month  day_of_week hour_of_day      handler  \n",
       "0  22:57:08    2020-10            2          22         None  \n",
       "1  22:40:57    2020-10            2          22         None  \n",
       "2  22:20:18    2020-10            2          22  @Mike_Pence  \n",
       "3  22:11:50    2020-10            2          22  @Mike_Pence  \n",
       "4  22:09:36    2020-10            2          22          @VP  "
      ]
     },
     "execution_count": 28,
     "metadata": {},
     "output_type": "execute_result"
    }
   ],
   "source": [
    "tweets.head()"
   ]
  },
  {
   "cell_type": "markdown",
   "metadata": {},
   "source": [
    "# EDA"
   ]
  },
  {
   "cell_type": "markdown",
   "metadata": {},
   "source": [
    "## Total Number Tweets"
   ]
  },
  {
   "cell_type": "code",
   "execution_count": 29,
   "metadata": {},
   "outputs": [
    {
     "data": {
      "text/plain": [
       "22395"
      ]
     },
     "execution_count": 29,
     "metadata": {},
     "output_type": "execute_result"
    }
   ],
   "source": [
    "len(tweets)"
   ]
  },
  {
   "cell_type": "markdown",
   "metadata": {},
   "source": [
    "## Tweets count by year"
   ]
  },
  {
   "cell_type": "code",
   "execution_count": 30,
   "metadata": {
    "scrolled": true
   },
   "outputs": [
    {
     "data": {
      "text/html": [
       "<div>\n",
       "<style scoped>\n",
       "    .dataframe tbody tr th:only-of-type {\n",
       "        vertical-align: middle;\n",
       "    }\n",
       "\n",
       "    .dataframe tbody tr th {\n",
       "        vertical-align: top;\n",
       "    }\n",
       "\n",
       "    .dataframe thead th {\n",
       "        text-align: right;\n",
       "    }\n",
       "</style>\n",
       "<table border=\"1\" class=\"dataframe\">\n",
       "  <thead>\n",
       "    <tr style=\"text-align: right;\">\n",
       "      <th></th>\n",
       "      <th></th>\n",
       "      <th>text</th>\n",
       "    </tr>\n",
       "    <tr>\n",
       "      <th>year</th>\n",
       "      <th>is_retweet</th>\n",
       "      <th></th>\n",
       "    </tr>\n",
       "  </thead>\n",
       "  <tbody>\n",
       "    <tr>\n",
       "      <th rowspan=\"2\" valign=\"top\">2017</th>\n",
       "      <th>0.0</th>\n",
       "      <td>2162</td>\n",
       "    </tr>\n",
       "    <tr>\n",
       "      <th>1.0</th>\n",
       "      <td>301</td>\n",
       "    </tr>\n",
       "    <tr>\n",
       "      <th rowspan=\"2\" valign=\"top\">2018</th>\n",
       "      <th>0.0</th>\n",
       "      <td>3051</td>\n",
       "    </tr>\n",
       "    <tr>\n",
       "      <th>1.0</th>\n",
       "      <td>464</td>\n",
       "    </tr>\n",
       "    <tr>\n",
       "      <th rowspan=\"2\" valign=\"top\">2019</th>\n",
       "      <th>0.0</th>\n",
       "      <td>6664</td>\n",
       "    </tr>\n",
       "    <tr>\n",
       "      <th>1.0</th>\n",
       "      <td>884</td>\n",
       "    </tr>\n",
       "    <tr>\n",
       "      <th rowspan=\"2\" valign=\"top\">2020</th>\n",
       "      <th>0.0</th>\n",
       "      <td>8533</td>\n",
       "    </tr>\n",
       "    <tr>\n",
       "      <th>1.0</th>\n",
       "      <td>336</td>\n",
       "    </tr>\n",
       "  </tbody>\n",
       "</table>\n",
       "</div>"
      ],
      "text/plain": [
       "                 text\n",
       "year is_retweet      \n",
       "2017 0.0         2162\n",
       "     1.0          301\n",
       "2018 0.0         3051\n",
       "     1.0          464\n",
       "2019 0.0         6664\n",
       "     1.0          884\n",
       "2020 0.0         8533\n",
       "     1.0          336"
      ]
     },
     "execution_count": 30,
     "metadata": {},
     "output_type": "execute_result"
    }
   ],
   "source": [
    "tweets[[\"text\", \"year\", \"is_retweet\"]].groupby([\"year\", \"is_retweet\"]).count()"
   ]
  },
  {
   "cell_type": "code",
   "execution_count": 31,
   "metadata": {},
   "outputs": [
    {
     "data": {
      "text/plain": [
       "<matplotlib.legend.Legend at 0x7fce5bea0a50>"
      ]
     },
     "execution_count": 31,
     "metadata": {},
     "output_type": "execute_result"
    },
    {
     "data": {
      "image/png": "[encoded data removed]",
      "text/plain": [
       "<Figure size 864x576 with 1 Axes>"
      ]
     },
     "metadata": {},
     "output_type": "display_data"
    }
   ],
   "source": [
    "fig, ax = plt.subplots(figsize=(12,8))\n",
    "total_tweets = tweets[[\"text\", \"year\", \"is_retweet\"]].groupby([\"year\", \"is_retweet\"]).count().unstack()\n",
    "total_tweets.plot(kind=\"bar\", ax=ax, stacked=True)\n",
    "ax.set_title(\"Total tweets by year\", fontsize=20)\n",
    "ax.set_xlabel(\"Year\", fontsize=15)\n",
    "ax.set_xticklabels(total_tweets.index, rotation=0)\n",
    "ax.set_ylabel(\"Number of tweets\", fontsize=15)\n",
    "ax.legend(labels=[\"tweets\", \"retweets\"])"
   ]
  },
  {
   "cell_type": "markdown",
   "metadata": {},
   "source": [
    "From here we observed that Donald Trump has increase his number of tweets over the years since he became US president in 2017. This same goes for his retweets where we see an increase numbers since 2017 however there's an decrease in 2020, this might be due to the fact that the data collected for 2020 is until Oct. "
   ]
  },
  {
   "cell_type": "markdown",
   "metadata": {},
   "source": [
    "## Tweets count by month"
   ]
  },
  {
   "cell_type": "code",
   "execution_count": 32,
   "metadata": {
    "scrolled": false
   },
   "outputs": [
    {
     "data": {
      "image/png": "[encoded data removed]",
      "text/plain": [
       "<Figure size 1440x864 with 4 Axes>"
      ]
     },
     "metadata": {},
     "output_type": "display_data"
    }
   ],
   "source": [
    "fig, ax = plt.subplots(figsize=(20,12), nrows=2, ncols=2, sharey=\"all\")\n",
    "ax = ax.ravel()\n",
    "\n",
    "for i, year in enumerate(np.sort(tweets[\"year\"].unique())):\n",
    "\n",
    "    year_month = tweets[tweets[\"year\"] == year]\n",
    "    year_month = year_month[[\"year_month\", \"text\", \"is_retweet\"]].groupby([\"year_month\", \"is_retweet\"]).count().unstack()\n",
    "    year_month.plot(kind='bar',ax=ax[i], stacked=True)\n",
    "    ax[i].set_xlabel(\"Year-Month\")\n",
    "    ax[i].set_xticklabels(year_month.index, rotation=0)\n",
    "    ax[i].set_ylabel(\"Number of Tweets\")\n",
    "    ax[i].set_title(f\"Tweets by Month for {year}\", fontsize=15)\n",
    "    ax[i].legend(labels=[\"tweets\", \"retweets\"])\n",
    "    \n"
   ]
  },
  {
   "cell_type": "markdown",
   "metadata": {},
   "source": [
    "In general, Trump posted more tweets in the last quarter of each year. One interesting finding is that in 2019 December he retweeted more than his own tweets. "
   ]
  },
  {
   "cell_type": "markdown",
   "metadata": {},
   "source": [
    "## Tweet count by day of week"
   ]
  },
  {
   "cell_type": "code",
   "execution_count": 33,
   "metadata": {},
   "outputs": [
    {
     "data": {
      "image/png": "[encoded data removed]",
      "text/plain": [
       "<Figure size 1440x864 with 4 Axes>"
      ]
     },
     "metadata": {},
     "output_type": "display_data"
    }
   ],
   "source": [
    "fig, ax = plt.subplots(figsize=(20,12), nrows=2, ncols=2, sharey=\"all\")\n",
    "ax = ax.ravel()\n",
    "\n",
    "for i, year in enumerate(np.sort(tweets[\"year\"].unique())):\n",
    "\n",
    "    day_of_week = tweets[tweets[\"year\"] == year]\n",
    "    day_of_week = day_of_week[[\"day_of_week\", \"text\", \"is_retweet\"]].groupby([\"day_of_week\", \"is_retweet\"]).count().unstack()\n",
    "    day_of_week.plot(kind='bar',ax=ax[i], stacked=True)\n",
    "    ax[i].set_xlabel(\"Day of Week\")\n",
    "    day_labels = [\"Mon\", \"Tue\", \"Wed\", \"Thu\", \"Fri\", \"Sat\", \"Sun\"]\n",
    "    ax[i].set_xticklabels(day_labels, rotation=0)\n",
    "    ax[i].set_ylabel(\"Number of Tweets\")\n",
    "    ax[i].set_title(f\"Tweets by Day of week for {year}\", fontsize=15)\n",
    "    ax[i].legend(labels=[\"tweets\", \"retweets\"])\n",
    "    \n"
   ]
  },
  {
   "cell_type": "markdown",
   "metadata": {},
   "source": [
    "We observed that President Trump usually tweets more on friday than any other day of the week. "
   ]
  },
  {
   "cell_type": "markdown",
   "metadata": {},
   "source": [
    "## Tweet count by hour of day"
   ]
  },
  {
   "cell_type": "code",
   "execution_count": 34,
   "metadata": {},
   "outputs": [
    {
     "data": {
      "image/png": "[encoded data removed]",
      "text/plain": [
       "<Figure size 1440x864 with 4 Axes>"
      ]
     },
     "metadata": {},
     "output_type": "display_data"
    }
   ],
   "source": [
    "fig, ax = plt.subplots(figsize=(20,12), nrows=2, ncols=2, sharex=\"all\")\n",
    "ax = ax.ravel()\n",
    "\n",
    "for i, year in enumerate(np.sort(tweets[\"year\"].unique())):\n",
    "\n",
    "    hour_of_day = tweets[tweets[\"year\"] == year]\n",
    "    hour_of_day = hour_of_day[[\"hour_of_day\", \"text\", \"is_retweet\"]].groupby([\"hour_of_day\", \"is_retweet\"]).count().unstack()\n",
    "    hour_of_day.plot(kind='barh',ax=ax[i], stacked=True)\n",
    "    ax[i].set_xlabel(\"Number of tweets\")\n",
    "    ax[i].set_ylabel(\"Hour of day\")\n",
    "    ax[i].set_title(f\"Tweets by hour of day for {year}\", fontsize=15)\n",
    "    ax[i].legend(labels=[\"tweets\", \"retweets\"])\n",
    "    "
   ]
  },
  {
   "cell_type": "markdown",
   "metadata": {},
   "source": [
    "President Trump is most active betweeen 6am to 8am everyday. Most of his tweets are posted during this period in the past 4 years. "
   ]
  },
  {
   "cell_type": "markdown",
   "metadata": {},
   "source": [
    "## Top 10 most likes Tweets"
   ]
  },
  {
   "cell_type": "code",
   "execution_count": 35,
   "metadata": {},
   "outputs": [
    {
     "data": {
      "text/plain": [
       "Text(0.5, 1.0, 'Top 10 most likes Tweets')"
      ]
     },
     "execution_count": 35,
     "metadata": {},
     "output_type": "execute_result"
    },
    {
     "data": {
      "image/png": "[encoded data removed]",
      "text/plain": [
       "<Figure size 864x576 with 1 Axes>"
      ]
     },
     "metadata": {},
     "output_type": "display_data"
    }
   ],
   "source": [
    "fig,ax = plt.subplots(figsize=(12,8))\n",
    "fav_tweets = tweets[\"favorite_count\"].sort_values(ascending=False)[:10]\n",
    "fav_tweets.plot(kind='bar')\n",
    "ax.set_xlabel(\"Tweet ID\")\n",
    "ax.set_xticklabels(fav_tweets.index, rotation=0)\n",
    "ax.set_ylabel(\"Favorite count\")\n",
    "ax.set_title(\"Top 10 most likes Tweets\", fontsize=20)"
   ]
  },
  {
   "cell_type": "code",
   "execution_count": 36,
   "metadata": {},
   "outputs": [
    {
     "name": "stdout",
     "output_type": "stream",
     "text": [
      " Number 1:\n",
      " Tonight, @FLOTUS and I tested positive for COVID-19. We will begin our quarantine and recovery process immediately. We will get through this TOGETHER!\n",
      "\n",
      " Number 2:\n",
      " Going welI, I think! Thank you to all. LOVE!!!\n",
      "\n",
      " Number 3:\n",
      " A$AP Rocky released from prison and on his way home to the United States from Sweden. It was a Rocky Week, get home ASAP A$AP!\n",
      "\n",
      " Number 4:\n",
      " The United States of America will be designating ANTIFA as a Terrorist Organization.\n",
      "\n",
      " Number 5:\n",
      " CHINA!\n",
      "\n",
      " Number 6:\n",
      " All is well! Missiles launched from Iran at two military bases located in Iraq. Assessment of casualties &amp; damages taking place now. So far, so good! We have the most powerful and well equipped military anywhere in the world, by far! I will be making a statement tomorrow morning.\n",
      "\n",
      " Number 7:\n",
      " MERRY CHRISTMAS!\n",
      "\n",
      " Number 8:\n",
      " Kobe Bryant, despite being one of the truly great basketball players of all time, was just getting started in life. He loved his family so much, and had such strong passion for the future. The loss of his beautiful daughter, Gianna, makes this moment even more devastating....\n",
      "\n",
      " Number 9:\n",
      " Just spoke to @KanyeWest about his friend A$AP Rocky’s incarceration. I will be calling the very talented Prime Minister of Sweden to see what we can do about helping A$AP Rocky. So many people would like to see this quickly resolved!\n",
      "\n",
      " Number 10:\n",
      " The United States just spent Two Trillion Dollars on Military Equipment. We are the biggest and by far the BEST in the World! If Iran attacks an American Base, or any American, we will be sending some of that brand new beautiful equipment their way...and without hesitation!\n",
      "\n"
     ]
    }
   ],
   "source": [
    "for i, index in enumerate(fav_tweets.index):\n",
    "    print(f\" Number {i+1}:\\n {tweets.iloc[index].text}\")\n",
    "    print(\"\")"
   ]
  },
  {
   "cell_type": "markdown",
   "metadata": {},
   "source": [
    "## Top 10 most mentioned"
   ]
  },
  {
   "cell_type": "code",
   "execution_count": 37,
   "metadata": {},
   "outputs": [
    {
     "data": {
      "text/plain": [
       "Text(0.5, 1.0, 'Top 10 most mentioned')"
      ]
     },
     "execution_count": 37,
     "metadata": {},
     "output_type": "execute_result"
    },
    {
     "data": {
      "image/png": "[encoded data removed]",
      "text/plain": [
       "<Figure size 864x576 with 1 Axes>"
      ]
     },
     "metadata": {},
     "output_type": "display_data"
    }
   ],
   "source": [
    "fig, ax = plt.subplots(figsize=(12,8))\n",
    "tweets[\"handler\"].value_counts()[:10].sort_values().plot(kind='barh')\n",
    "ax.set_xlabel(\"Number of tweets\")\n",
    "ax.set_ylabel(\"Twitter Handler\")\n",
    "ax.set_title(\"Top 10 most mentioned\", fontsize=20)"
   ]
  },
  {
   "cell_type": "markdown",
   "metadata": {},
   "source": [
    "## Top 10 most retweeted"
   ]
  },
  {
   "cell_type": "code",
   "execution_count": 48,
   "metadata": {},
   "outputs": [
    {
     "data": {
      "text/plain": [
       "Text(0, 0.5, 'Number of Tweets')"
      ]
     },
     "execution_count": 48,
     "metadata": {},
     "output_type": "execute_result"
    },
    {
     "data": {
      "image/png": "[encoded data removed]",
      "text/plain": [
       "<Figure size 864x576 with 1 Axes>"
      ]
     },
     "metadata": {},
     "output_type": "display_data"
    }
   ],
   "source": [
    "fig, ax = plt.subplots(figsize=(12,8))\n",
    "top_retweets = tweets[\"retweet_count\"].sort_values(ascending=False).head(10)\n",
    "top_retweets.plot(kind=\"bar\")\n",
    "ax.set_xlabel(\"Tweet ID\")\n",
    "ax.set_xticklabels(top_retweets.index, rotation=0)\n",
    "ax.set_ylabel(\"Number of Tweets\")"
   ]
  },
  {
   "cell_type": "code",
   "execution_count": 54,
   "metadata": {},
   "outputs": [
    {
     "name": "stdout",
     "output_type": "stream",
     "text": [
      " Number 1:\n",
      " Tonight, @FLOTUS and I tested positive for COVID-19. We will begin our quarantine and recovery process immediately. We will get through this TOGETHER!\n",
      "\n",
      " Number 2:\n",
      " #FraudNewsCNN #FNN https://t.co/WYUnHjjUjg\n",
      "\n",
      " Number 3:\n",
      " Why would Kim Jong-un insult me by calling me \"old,\" when I would NEVER call him \"short and fat?\" Oh well, I try so hard to be his friend - and maybe someday that will happen!\n",
      "\n",
      " Number 4:\n",
      " A$AP Rocky released from prison and on his way home to the United States from Sweden. It was a Rocky Week, get home ASAP A$AP!\n",
      "\n",
      " Number 5:\n",
      " RT @SpaceX: Liftoff! https://t.co/DRBfdUM7JA\n",
      "\n",
      " Number 6:\n",
      " RT @realDonaldTrump: The United States of America will be designating ANTIFA as a Terrorist Organization.\n",
      "\n",
      " Number 7:\n",
      " The United States of America will be designating ANTIFA as a Terrorist Organization.\n",
      "\n",
      " Number 8:\n",
      " Just spoke to @KanyeWest about his friend A$AP Rocky’s incarceration. I will be calling the very talented Prime Minister of Sweden to see what we can do about helping A$AP Rocky. So many people would like to see this quickly resolved!\n",
      "\n",
      " Number 9:\n",
      " RT @realDonaldTrump: Just spoke to @KanyeWest about his friend A$AP Rocky’s incarceration. I will be calling the very talented Prime Minist…\n",
      "\n",
      " Number 10:\n",
      " RT @realDonaldTrump: https://t.co/11nzKwOCtU\n",
      "\n"
     ]
    }
   ],
   "source": [
    "for i, index in enumerate(top_retweets.index):\n",
    "    print(f\" Number {i+1}:\\n {tweets.iloc[index].text}\")\n",
    "    print(\"\")"
   ]
  },
  {
   "cell_type": "code",
   "execution_count": null,
   "metadata": {},
   "outputs": [],
   "source": []
  }
 ],
 "metadata": {
  "kernelspec": {
   "display_name": "Python 3",
   "language": "python",
   "name": "python3"
  },
  "language_info": {
   "codemirror_mode": {
    "name": "ipython",
    "version": 3
   },
   "file_extension": ".py",
   "mimetype": "text/x-python",
   "name": "python",
   "nbconvert_exporter": "python",
   "pygments_lexer": "ipython3",
   "version": "3.7.6"
  }
 },
 "nbformat": 4,
 "nbformat_minor": 4
}
