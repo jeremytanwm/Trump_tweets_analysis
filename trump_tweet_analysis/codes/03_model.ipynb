{
 "cells": [
  {
   "cell_type": "markdown",
   "metadata": {},
   "source": [
    "# Modelling"
   ]
  },
  {
   "cell_type": "code",
   "execution_count": 1,
   "metadata": {},
   "outputs": [],
   "source": [
    "#pipeline models\n",
    "from sklearn.pipeline import Pipeline\n",
    "from sklearn.pipeline import FeatureUnion\n",
    "from sklearn.model_selection import GridSearchCV, RandomizedSearchCV\n",
    "from sklearn.decomposition import TruncatedSVD\n",
    "\n",
    "# pre processing\n",
    "from sklearn.preprocessing import StandardScaler, MinMaxScaler, MaxAbsScaler, RobustScaler\n",
    "from sklearn.preprocessing import FunctionTransformer\n",
    "from sklearn.feature_extraction.text import CountVectorizer, TfidfVectorizer\n",
    "from sklearn.preprocessing import PolynomialFeatures\n",
    "from sklearn.feature_selection import chi2, SelectKBest, f_classif\n",
    "from sklearn.model_selection import train_test_split, cross_val_score\n",
    "\n",
    "# classifiers\n",
    "from sklearn.linear_model import LogisticRegression\n",
    "from sklearn.naive_bayes import MultinomialNB\n",
    "from sklearn.ensemble import RandomForestClassifier\n",
    "from xgboost import XGBClassifier\n",
    "from xgboost import plot_importance\n",
    "from sklearn.svm import SVC\n",
    "\n",
    "\n",
    "#scoring metrics\n",
    "from sklearn.metrics import roc_auc_score, confusion_matrix, classification_report\n",
    "from sklearn.metrics import accuracy_score, recall_score, f1_score, plot_roc_curve, plot_confusion_matrix\n",
    "\n",
    "\n",
    "import pandas as pd\n",
    "import numpy as np\n",
    "import matplotlib.pyplot as plt\n",
    "import seaborn as sns\n",
    "from imblearn.over_sampling import SMOTE\n",
    "from imblearn.pipeline import Pipeline\n",
    "\n",
    "pd.set_option(\"display.max_rows\", 9999)\n",
    "pd.set_option(\"display.max_columns\", 9999)\n",
    "plt.style.use('seaborn')\n"
   ]
  },
  {
   "cell_type": "code",
   "execution_count": 2,
   "metadata": {},
   "outputs": [],
   "source": [
    "tweets = pd.read_csv('../datasets/final_tweets.csv')"
   ]
  },
  {
   "cell_type": "markdown",
   "metadata": {},
   "source": [
    "#### Baseline score : 50%, random guess whether the tweets have positive or negative impact."
   ]
  },
  {
   "cell_type": "code",
   "execution_count": 3,
   "metadata": {},
   "outputs": [
    {
     "data": {
      "text/plain": [
       "Index(['source', 'text', 'created_at', 'retweet_count', 'favorite_count',\n",
       "       'clean_text', 'year', 'month', 'day', 'year_month', 'day_of_week',\n",
       "       'hour_of_day', 'handle', 'word_count', 'trade_date', 'prev_change',\n",
       "       'change_pc', 'target', 'char_count', 'lemmas_token', 'lemmas_text',\n",
       "       'topic_0', 'topic_1', 'topic_2', 'topic_3', 'topic_4', 'topic_5',\n",
       "       'dominant_topic', 'compound_score', 'neg_score', 'neu_score',\n",
       "       'pos_score'],\n",
       "      dtype='object')"
      ]
     },
     "execution_count": 3,
     "metadata": {},
     "output_type": "execute_result"
    }
   ],
   "source": [
    "tweets.columns"
   ]
  },
  {
   "cell_type": "code",
   "execution_count": 4,
   "metadata": {},
   "outputs": [],
   "source": [
    "features = ['trade_date', 'text', 'lemmas_text', 'target']\n",
    "\n",
    "X = tweets[features]\n",
    "y = tweets['target']"
   ]
  },
  {
   "cell_type": "code",
   "execution_count": 5,
   "metadata": {},
   "outputs": [
    {
     "data": {
      "text/plain": [
       "((957, 4), (957,))"
      ]
     },
     "execution_count": 5,
     "metadata": {},
     "output_type": "execute_result"
    }
   ],
   "source": [
    "X.shape, y.shape"
   ]
  },
  {
   "cell_type": "code",
   "execution_count": 6,
   "metadata": {},
   "outputs": [],
   "source": [
    "#split to training and testing set(final test)\n",
    "X_train, X_test, y_train, y_test = train_test_split(X, y, test_size=0.2, \n",
    "                                                    random_state=42, stratify=y)"
   ]
  },
  {
   "cell_type": "code",
   "execution_count": 7,
   "metadata": {},
   "outputs": [],
   "source": [
    "# Obtain the text data\n",
    "get_text_data = FunctionTransformer(lambda x: x['lemmas_text'], validate=False)\n"
   ]
  },
  {
   "cell_type": "code",
   "execution_count": 8,
   "metadata": {},
   "outputs": [],
   "source": [
    "#Create an empty dictionary to store the metric score when function is called\n",
    "metrics = {}\n",
    "# dictionary to hold the models for each runs\n",
    "models = {}\n",
    "# Dataframe to hold the predictions for validataion set\n",
    "preds_df = X_test.copy()"
   ]
  },
  {
   "cell_type": "code",
   "execution_count": 9,
   "metadata": {},
   "outputs": [],
   "source": [
    "def score_metrics(model_name, pipe, params,  X_train, y_train, X_test, y_test, scoring,  models, preds_df):\n",
    "    \n",
    "    \"\"\" \n",
    "    Function to fit and collect model metrics\n",
    "  \n",
    "    Parameters: \n",
    "        tag (str): name for this pipeline\n",
    "        pipe (pipeline): pipeline to be executed\n",
    "\t\tparam (dict): dictionary of parameters to be used\n",
    "        X_train (Series): Series holding the train feature\n",
    "        X_test (Series): Series holding the test feature\n",
    "        y_train (Series): Series holding the train target\n",
    "        y_test (Series): Series holding the test target\n",
    "        scoring (str): scoring metric for the search\n",
    "        \n",
    "    \"\"\"\n",
    "\n",
    "#     gs = GridSearchCV(pipe, param_grid=params, cv=5,\n",
    "#                             scoring=scoring)\n",
    "    \n",
    "    gs = RandomizedSearchCV(pipe, param_distributions=params, cv=5, n_iter=20,\n",
    "                            scoring=scoring)    \n",
    "    gs.fit(X_train, y_train)\n",
    "    bm = gs.best_estimator_\n",
    "    models[model_name] = gs\n",
    "    y_pred = bm.predict(X_test)\n",
    "    preds_df[model_name]=y_pred\n",
    "    print(f'{model_name}->Best params: {gs.best_params_}')\n",
    "    \n",
    "    metric = {}\n",
    "    metric['01 Train score'] = f'{bm.score(X_train, y_train):,.4f}'\n",
    "    metric['02 Test score'] = f'{bm.score(X_test, y_test):,.4f}'\n",
    "    metric['03 Score diff'] = float(metric['01 Train score'])-float(metric['02 Test score'])\n",
    "\n",
    "    # calculate Specificity and Sensitivity\n",
    "    tn, fp, fn, tp = confusion_matrix(y_test, y_pred).ravel()\n",
    "    metric['04 Precision'] = f'{(tp /(tp + fp)):.4f}'\n",
    "    metric['05 Specificity'] = f'{(tn / (tn + fp)):.4f}'\n",
    "    metric['06 Sensitivity'] = f'{(tp / (tp + fn)):.4f}'\n",
    "    metric['07 F1 Score'] = f'{f1_score(y_test, y_pred):.4f}'\n",
    "    metric['08 True Negatives'] = tn\n",
    "    metric['09 False Positives'] = fp\n",
    "    metric['10 False Negatives'] = fn\n",
    "    metric['11 True Positives'] = tp\n",
    "    metric['12 Train ROC Score'] = f'{roc_auc_score(y_train, bm.predict_proba(X_train)[:,1]):,.4f}'\n",
    "    metric['13 Test ROC Score'] = f'{roc_auc_score(y_test, bm.predict_proba(X_test)[:,1]):,.4f}'\n",
    "\n",
    "    # plot roc and confusion matrix\n",
    "    fig, ax = plt.subplots(nrows=1, ncols=2, figsize=(12,5))\n",
    "    plot_roc_curve(bm, X_test, y_test, name=model_name, ax=ax[0]);\n",
    "    # Plot baseline. (Perfect overlap between the two populations.)\n",
    "    ax[0].plot(np.linspace(0, 1, 200), np.linspace(0, 1, 200),\n",
    "             label='baseline', linestyle='--')\n",
    "    plot_confusion_matrix(bm, X_test, y_test, ax=ax[1], cmap='RdPu');\n",
    "    ax[0].set_title(f'ROC for {model_name}');\n",
    "    ax[1].set_title(f'Confusion Matrix for {model_name}');\n",
    "    \n",
    "    return metric"
   ]
  },
  {
   "cell_type": "markdown",
   "metadata": {},
   "source": [
    "### Logistic Regression"
   ]
  },
  {
   "cell_type": "code",
   "execution_count": 10,
   "metadata": {},
   "outputs": [],
   "source": [
    "logreg_pipe = Pipeline([\n",
    "    ('selector', get_text_data),\n",
    "    ('vectorizer', TfidfVectorizer(ngram_range=(1,2), stop_words='english')),\n",
    "    ('sampling', SMOTE(random_state=42)),\n",
    "    ('clf', LogisticRegression(solver='liblinear'))\n",
    "\n",
    "])\n",
    "\n",
    "lr_params = {\n",
    "\n",
    "    'clf__penalty': ['l1', 'l2'],\n",
    "    'clf__C': [0.1, 0.01, 0.001]\n",
    "\n",
    "}"
   ]
  },
  {
   "cell_type": "code",
   "execution_count": 11,
   "metadata": {},
   "outputs": [
    {
     "name": "stderr",
     "output_type": "stream",
     "text": [
      "/Users/jeremytan/opt/anaconda3/lib/python3.7/site-packages/sklearn/model_selection/_search.py:282: UserWarning: The total space of parameters 6 is smaller than n_iter=20. Running 6 iterations. For exhaustive searches, use GridSearchCV.\n",
      "  % (grid_size, self.n_iter, grid_size), UserWarning)\n"
     ]
    },
    {
     "name": "stdout",
     "output_type": "stream",
     "text": [
      "log_reg->Best params: {'clf__penalty': 'l2', 'clf__C': 0.1}\n",
      "CPU times: user 2.61 s, sys: 47.6 ms, total: 2.65 s\n",
      "Wall time: 1.6 s\n"
     ]
    },
    {
     "data": {
      "image/png": "[encoded data removed]",
      "text/plain": [
       "<Figure size 864x360 with 3 Axes>"
      ]
     },
     "metadata": {},
     "output_type": "display_data"
    }
   ],
   "source": [
    "%%time\n",
    "metrics['log_reg'] = score_metrics('log_reg', logreg_pipe, \n",
    "                                   lr_params, X_train, \n",
    "                                   y_train, X_test, \n",
    "                                   y_test, 'roc_auc', models, preds_df)"
   ]
  },
  {
   "cell_type": "code",
   "execution_count": 12,
   "metadata": {},
   "outputs": [
    {
     "data": {
      "text/html": [
       "<div>\n",
       "<style scoped>\n",
       "    .dataframe tbody tr th:only-of-type {\n",
       "        vertical-align: middle;\n",
       "    }\n",
       "\n",
       "    .dataframe tbody tr th {\n",
       "        vertical-align: top;\n",
       "    }\n",
       "\n",
       "    .dataframe thead th {\n",
       "        text-align: right;\n",
       "    }\n",
       "</style>\n",
       "<table border=\"1\" class=\"dataframe\">\n",
       "  <thead>\n",
       "    <tr style=\"text-align: right;\">\n",
       "      <th></th>\n",
       "      <th>log_reg</th>\n",
       "    </tr>\n",
       "  </thead>\n",
       "  <tbody>\n",
       "    <tr>\n",
       "      <th>01 Train score</th>\n",
       "      <td>0.9830</td>\n",
       "    </tr>\n",
       "    <tr>\n",
       "      <th>02 Test score</th>\n",
       "      <td>0.8281</td>\n",
       "    </tr>\n",
       "    <tr>\n",
       "      <th>03 Score diff</th>\n",
       "      <td>0.1549</td>\n",
       "    </tr>\n",
       "    <tr>\n",
       "      <th>04 Precision</th>\n",
       "      <td>0.8516</td>\n",
       "    </tr>\n",
       "    <tr>\n",
       "      <th>05 Specificity</th>\n",
       "      <td>0.5400</td>\n",
       "    </tr>\n",
       "    <tr>\n",
       "      <th>06 Sensitivity</th>\n",
       "      <td>0.9296</td>\n",
       "    </tr>\n",
       "    <tr>\n",
       "      <th>07 F1 Score</th>\n",
       "      <td>0.8889</td>\n",
       "    </tr>\n",
       "    <tr>\n",
       "      <th>08 True Negatives</th>\n",
       "      <td>27</td>\n",
       "    </tr>\n",
       "    <tr>\n",
       "      <th>09 False Positives</th>\n",
       "      <td>23</td>\n",
       "    </tr>\n",
       "    <tr>\n",
       "      <th>10 False Negatives</th>\n",
       "      <td>10</td>\n",
       "    </tr>\n",
       "    <tr>\n",
       "      <th>11 True Positives</th>\n",
       "      <td>132</td>\n",
       "    </tr>\n",
       "    <tr>\n",
       "      <th>12 Train ROC Score</th>\n",
       "      <td>0.9982</td>\n",
       "    </tr>\n",
       "    <tr>\n",
       "      <th>13 Test ROC Score</th>\n",
       "      <td>0.9190</td>\n",
       "    </tr>\n",
       "  </tbody>\n",
       "</table>\n",
       "</div>"
      ],
      "text/plain": [
       "                   log_reg\n",
       "01 Train score      0.9830\n",
       "02 Test score       0.8281\n",
       "03 Score diff       0.1549\n",
       "04 Precision        0.8516\n",
       "05 Specificity      0.5400\n",
       "06 Sensitivity      0.9296\n",
       "07 F1 Score         0.8889\n",
       "08 True Negatives       27\n",
       "09 False Positives      23\n",
       "10 False Negatives      10\n",
       "11 True Positives      132\n",
       "12 Train ROC Score  0.9982\n",
       "13 Test ROC Score   0.9190"
      ]
     },
     "execution_count": 12,
     "metadata": {},
     "output_type": "execute_result"
    }
   ],
   "source": [
    "pd.DataFrame(metrics)"
   ]
  },
  {
   "cell_type": "markdown",
   "metadata": {},
   "source": [
    "### MultinomialNB"
   ]
  },
  {
   "cell_type": "code",
   "execution_count": 13,
   "metadata": {},
   "outputs": [],
   "source": [
    "nb_pipe = Pipeline([\n",
    "    ('selector', get_text_data),\n",
    "    ('vectorizer', TfidfVectorizer(ngram_range=(1,2),\n",
    "                                  stop_words='english')),\n",
    "    ('sampling', SMOTE(random_state=42)),\n",
    "    ('feature_selection', SelectKBest()),\n",
    "    ('scale', MaxAbsScaler()),\n",
    "    ('clf', MultinomialNB())\n",
    "\n",
    "])\n",
    "\n",
    "nb_params = {\n",
    "\n",
    "    'feature_selection__k': [200, 400, 600, 800],\n",
    "    'feature_selection__score_func': [chi2, f_classif],\n",
    " \n",
    "}"
   ]
  },
  {
   "cell_type": "code",
   "execution_count": 14,
   "metadata": {},
   "outputs": [
    {
     "name": "stderr",
     "output_type": "stream",
     "text": [
      "/Users/jeremytan/opt/anaconda3/lib/python3.7/site-packages/sklearn/model_selection/_search.py:282: UserWarning: The total space of parameters 8 is smaller than n_iter=20. Running 8 iterations. For exhaustive searches, use GridSearchCV.\n",
      "  % (grid_size, self.n_iter, grid_size), UserWarning)\n"
     ]
    },
    {
     "name": "stdout",
     "output_type": "stream",
     "text": [
      "nb->Best params: {'feature_selection__score_func': <function chi2 at 0x7fa226f820e0>, 'feature_selection__k': 400}\n",
      "CPU times: user 2.35 s, sys: 48.8 ms, total: 2.4 s\n",
      "Wall time: 2.43 s\n"
     ]
    },
    {
     "data": {
      "image/png": "[encoded data removed]",
      "text/plain": [
       "<Figure size 864x360 with 3 Axes>"
      ]
     },
     "metadata": {},
     "output_type": "display_data"
    }
   ],
   "source": [
    "%%time\n",
    "metrics['nb'] = score_metrics('nb', nb_pipe, nb_params, X_train, y_train, \n",
    "                              X_test, y_test,'roc_auc', models, preds_df)"
   ]
  },
  {
   "cell_type": "code",
   "execution_count": 15,
   "metadata": {},
   "outputs": [
    {
     "data": {
      "text/html": [
       "<div>\n",
       "<style scoped>\n",
       "    .dataframe tbody tr th:only-of-type {\n",
       "        vertical-align: middle;\n",
       "    }\n",
       "\n",
       "    .dataframe tbody tr th {\n",
       "        vertical-align: top;\n",
       "    }\n",
       "\n",
       "    .dataframe thead th {\n",
       "        text-align: right;\n",
       "    }\n",
       "</style>\n",
       "<table border=\"1\" class=\"dataframe\">\n",
       "  <thead>\n",
       "    <tr style=\"text-align: right;\">\n",
       "      <th></th>\n",
       "      <th>log_reg</th>\n",
       "      <th>nb</th>\n",
       "    </tr>\n",
       "  </thead>\n",
       "  <tbody>\n",
       "    <tr>\n",
       "      <th>01 Train score</th>\n",
       "      <td>0.9830</td>\n",
       "      <td>0.9255</td>\n",
       "    </tr>\n",
       "    <tr>\n",
       "      <th>02 Test score</th>\n",
       "      <td>0.8281</td>\n",
       "      <td>0.8333</td>\n",
       "    </tr>\n",
       "    <tr>\n",
       "      <th>03 Score diff</th>\n",
       "      <td>0.1549</td>\n",
       "      <td>0.0922</td>\n",
       "    </tr>\n",
       "    <tr>\n",
       "      <th>04 Precision</th>\n",
       "      <td>0.8516</td>\n",
       "      <td>0.8873</td>\n",
       "    </tr>\n",
       "    <tr>\n",
       "      <th>05 Specificity</th>\n",
       "      <td>0.5400</td>\n",
       "      <td>0.6800</td>\n",
       "    </tr>\n",
       "    <tr>\n",
       "      <th>06 Sensitivity</th>\n",
       "      <td>0.9296</td>\n",
       "      <td>0.8873</td>\n",
       "    </tr>\n",
       "    <tr>\n",
       "      <th>07 F1 Score</th>\n",
       "      <td>0.8889</td>\n",
       "      <td>0.8873</td>\n",
       "    </tr>\n",
       "    <tr>\n",
       "      <th>08 True Negatives</th>\n",
       "      <td>27</td>\n",
       "      <td>34</td>\n",
       "    </tr>\n",
       "    <tr>\n",
       "      <th>09 False Positives</th>\n",
       "      <td>23</td>\n",
       "      <td>16</td>\n",
       "    </tr>\n",
       "    <tr>\n",
       "      <th>10 False Negatives</th>\n",
       "      <td>10</td>\n",
       "      <td>16</td>\n",
       "    </tr>\n",
       "    <tr>\n",
       "      <th>11 True Positives</th>\n",
       "      <td>132</td>\n",
       "      <td>126</td>\n",
       "    </tr>\n",
       "    <tr>\n",
       "      <th>12 Train ROC Score</th>\n",
       "      <td>0.9982</td>\n",
       "      <td>0.9789</td>\n",
       "    </tr>\n",
       "    <tr>\n",
       "      <th>13 Test ROC Score</th>\n",
       "      <td>0.9190</td>\n",
       "      <td>0.8874</td>\n",
       "    </tr>\n",
       "  </tbody>\n",
       "</table>\n",
       "</div>"
      ],
      "text/plain": [
       "                   log_reg      nb\n",
       "01 Train score      0.9830  0.9255\n",
       "02 Test score       0.8281  0.8333\n",
       "03 Score diff       0.1549  0.0922\n",
       "04 Precision        0.8516  0.8873\n",
       "05 Specificity      0.5400  0.6800\n",
       "06 Sensitivity      0.9296  0.8873\n",
       "07 F1 Score         0.8889  0.8873\n",
       "08 True Negatives       27      34\n",
       "09 False Positives      23      16\n",
       "10 False Negatives      10      16\n",
       "11 True Positives      132     126\n",
       "12 Train ROC Score  0.9982  0.9789\n",
       "13 Test ROC Score   0.9190  0.8874"
      ]
     },
     "execution_count": 15,
     "metadata": {},
     "output_type": "execute_result"
    }
   ],
   "source": [
    "pd.DataFrame(metrics)"
   ]
  },
  {
   "cell_type": "markdown",
   "metadata": {},
   "source": [
    "### RandomForest"
   ]
  },
  {
   "cell_type": "code",
   "execution_count": 16,
   "metadata": {},
   "outputs": [],
   "source": [
    "rf_pipe = Pipeline([\n",
    "\n",
    "    ('selector', get_text_data),\n",
    "    ('vectorizer', TfidfVectorizer(ngram_range=(1,2),\n",
    "                                  stop_words='english')),     \n",
    "    ('sampling', SMOTE(random_state=42)),\n",
    "    ('clf', RandomForestClassifier())\n",
    "\n",
    "])\n",
    "\n",
    "rf_params = {\n",
    "\n",
    "    \n",
    "    'clf__max_depth': [10, 20, 30, 40, 50, 60, 70, 80, 90, 100],\n",
    "    'clf__max_features': ['auto', 'sqrt'],\n",
    "    'clf__min_samples_split': [2, 5, 10],\n",
    "    'clf__n_estimators': [200, 400, 600, 800, 1000],\n",
    "    'clf__bootstrap': [True, False],\n",
    "    'clf__min_samples_leaf': [1, 2, 4],\n",
    "    \n",
    "}"
   ]
  },
  {
   "cell_type": "code",
   "execution_count": 17,
   "metadata": {},
   "outputs": [
    {
     "name": "stdout",
     "output_type": "stream",
     "text": [
      "rf->Best params: {'clf__n_estimators': 800, 'clf__min_samples_split': 10, 'clf__min_samples_leaf': 4, 'clf__max_features': 'auto', 'clf__max_depth': 70, 'clf__bootstrap': False}\n",
      "CPU times: user 2min 7s, sys: 1.67 s, total: 2min 9s\n",
      "Wall time: 2min 11s\n"
     ]
    },
    {
     "data": {
      "image/png": "[encoded data removed]",
      "text/plain": [
       "<Figure size 864x360 with 3 Axes>"
      ]
     },
     "metadata": {},
     "output_type": "display_data"
    }
   ],
   "source": [
    "%%time\n",
    "metrics['rf'] = score_metrics('rf', rf_pipe, rf_params, X_train, y_train, \n",
    "                              X_test, y_test,'roc_auc', models, preds_df)"
   ]
  },
  {
   "cell_type": "code",
   "execution_count": 18,
   "metadata": {
    "scrolled": false
   },
   "outputs": [
    {
     "data": {
      "text/html": [
       "<div>\n",
       "<style scoped>\n",
       "    .dataframe tbody tr th:only-of-type {\n",
       "        vertical-align: middle;\n",
       "    }\n",
       "\n",
       "    .dataframe tbody tr th {\n",
       "        vertical-align: top;\n",
       "    }\n",
       "\n",
       "    .dataframe thead th {\n",
       "        text-align: right;\n",
       "    }\n",
       "</style>\n",
       "<table border=\"1\" class=\"dataframe\">\n",
       "  <thead>\n",
       "    <tr style=\"text-align: right;\">\n",
       "      <th></th>\n",
       "      <th>log_reg</th>\n",
       "      <th>nb</th>\n",
       "      <th>rf</th>\n",
       "    </tr>\n",
       "  </thead>\n",
       "  <tbody>\n",
       "    <tr>\n",
       "      <th>01 Train score</th>\n",
       "      <td>0.9830</td>\n",
       "      <td>0.9255</td>\n",
       "      <td>0.9569</td>\n",
       "    </tr>\n",
       "    <tr>\n",
       "      <th>02 Test score</th>\n",
       "      <td>0.8281</td>\n",
       "      <td>0.8333</td>\n",
       "      <td>0.8438</td>\n",
       "    </tr>\n",
       "    <tr>\n",
       "      <th>03 Score diff</th>\n",
       "      <td>0.1549</td>\n",
       "      <td>0.0922</td>\n",
       "      <td>0.1131</td>\n",
       "    </tr>\n",
       "    <tr>\n",
       "      <th>04 Precision</th>\n",
       "      <td>0.8516</td>\n",
       "      <td>0.8873</td>\n",
       "      <td>0.8256</td>\n",
       "    </tr>\n",
       "    <tr>\n",
       "      <th>05 Specificity</th>\n",
       "      <td>0.5400</td>\n",
       "      <td>0.6800</td>\n",
       "      <td>0.4000</td>\n",
       "    </tr>\n",
       "    <tr>\n",
       "      <th>06 Sensitivity</th>\n",
       "      <td>0.9296</td>\n",
       "      <td>0.8873</td>\n",
       "      <td>1.0000</td>\n",
       "    </tr>\n",
       "    <tr>\n",
       "      <th>07 F1 Score</th>\n",
       "      <td>0.8889</td>\n",
       "      <td>0.8873</td>\n",
       "      <td>0.9045</td>\n",
       "    </tr>\n",
       "    <tr>\n",
       "      <th>08 True Negatives</th>\n",
       "      <td>27</td>\n",
       "      <td>34</td>\n",
       "      <td>20</td>\n",
       "    </tr>\n",
       "    <tr>\n",
       "      <th>09 False Positives</th>\n",
       "      <td>23</td>\n",
       "      <td>16</td>\n",
       "      <td>30</td>\n",
       "    </tr>\n",
       "    <tr>\n",
       "      <th>10 False Negatives</th>\n",
       "      <td>10</td>\n",
       "      <td>16</td>\n",
       "      <td>0</td>\n",
       "    </tr>\n",
       "    <tr>\n",
       "      <th>11 True Positives</th>\n",
       "      <td>132</td>\n",
       "      <td>126</td>\n",
       "      <td>142</td>\n",
       "    </tr>\n",
       "    <tr>\n",
       "      <th>12 Train ROC Score</th>\n",
       "      <td>0.9982</td>\n",
       "      <td>0.9789</td>\n",
       "      <td>0.9948</td>\n",
       "    </tr>\n",
       "    <tr>\n",
       "      <th>13 Test ROC Score</th>\n",
       "      <td>0.9190</td>\n",
       "      <td>0.8874</td>\n",
       "      <td>0.9018</td>\n",
       "    </tr>\n",
       "  </tbody>\n",
       "</table>\n",
       "</div>"
      ],
      "text/plain": [
       "                   log_reg      nb      rf\n",
       "01 Train score      0.9830  0.9255  0.9569\n",
       "02 Test score       0.8281  0.8333  0.8438\n",
       "03 Score diff       0.1549  0.0922  0.1131\n",
       "04 Precision        0.8516  0.8873  0.8256\n",
       "05 Specificity      0.5400  0.6800  0.4000\n",
       "06 Sensitivity      0.9296  0.8873  1.0000\n",
       "07 F1 Score         0.8889  0.8873  0.9045\n",
       "08 True Negatives       27      34      20\n",
       "09 False Positives      23      16      30\n",
       "10 False Negatives      10      16       0\n",
       "11 True Positives      132     126     142\n",
       "12 Train ROC Score  0.9982  0.9789  0.9948\n",
       "13 Test ROC Score   0.9190  0.8874  0.9018"
      ]
     },
     "execution_count": 18,
     "metadata": {},
     "output_type": "execute_result"
    }
   ],
   "source": [
    "pd.DataFrame(metrics)"
   ]
  },
  {
   "cell_type": "markdown",
   "metadata": {},
   "source": [
    "### XGBoost"
   ]
  },
  {
   "cell_type": "code",
   "execution_count": 19,
   "metadata": {},
   "outputs": [],
   "source": [
    "xgb_pipe = Pipeline([\n",
    "\n",
    "    ('selector', get_text_data),\n",
    "    ('vectorizer', TfidfVectorizer(ngram_range=(1,2),\n",
    "                                  stop_words='english')),   \n",
    "    ('sampling', SMOTE(random_state=42)),\n",
    "    ('clf', XGBClassifier())\n",
    "\n",
    "])\n",
    "\n",
    "xgb_params = {\n",
    "\n",
    "    'clf__max_depth': [ 3, 4, 5, 6, 8, 10, 12, 15],\n",
    "    'clf__learning_rate': [0.05, 0.10, 0.15, 0.20, 0.25, 0.30 ],\n",
    "    'clf__\"min_child_weight': [ 1, 3, 5, 7 ],\n",
    "    'clf__gamma': [ 0.0, 0.1, 0.2 , 0.3, 0.4 ],\n",
    "    'clf__colsample_bytree': [ 0.3, 0.4, 0.5 , 0.7 ]\n",
    "    \n",
    "\n",
    "}"
   ]
  },
  {
   "cell_type": "code",
   "execution_count": 20,
   "metadata": {},
   "outputs": [
    {
     "name": "stdout",
     "output_type": "stream",
     "text": [
      "xgb->Best params: {'clf__max_depth': 8, 'clf__learning_rate': 0.1, 'clf__gamma': 0.1, 'clf__colsample_bytree': 0.3, 'clf__\"min_child_weight': 5}\n",
      "CPU times: user 5min 15s, sys: 930 ms, total: 5min 16s\n",
      "Wall time: 5min 18s\n"
     ]
    },
    {
     "data": {
      "image/png": "[encoded data removed]",
      "text/plain": [
       "<Figure size 864x360 with 3 Axes>"
      ]
     },
     "metadata": {},
     "output_type": "display_data"
    }
   ],
   "source": [
    "%%time\n",
    "metrics['xgb'] = score_metrics('xgb', xgb_pipe, xgb_params, X_train, y_train, \n",
    "                              X_test, y_test,'roc_auc', models, preds_df)"
   ]
  },
  {
   "cell_type": "code",
   "execution_count": 21,
   "metadata": {},
   "outputs": [
    {
     "data": {
      "text/html": [
       "<div>\n",
       "<style scoped>\n",
       "    .dataframe tbody tr th:only-of-type {\n",
       "        vertical-align: middle;\n",
       "    }\n",
       "\n",
       "    .dataframe tbody tr th {\n",
       "        vertical-align: top;\n",
       "    }\n",
       "\n",
       "    .dataframe thead th {\n",
       "        text-align: right;\n",
       "    }\n",
       "</style>\n",
       "<table border=\"1\" class=\"dataframe\">\n",
       "  <thead>\n",
       "    <tr style=\"text-align: right;\">\n",
       "      <th></th>\n",
       "      <th>log_reg</th>\n",
       "      <th>nb</th>\n",
       "      <th>rf</th>\n",
       "      <th>xgb</th>\n",
       "    </tr>\n",
       "  </thead>\n",
       "  <tbody>\n",
       "    <tr>\n",
       "      <th>01 Train score</th>\n",
       "      <td>0.9830</td>\n",
       "      <td>0.9255</td>\n",
       "      <td>0.9569</td>\n",
       "      <td>0.9712</td>\n",
       "    </tr>\n",
       "    <tr>\n",
       "      <th>02 Test score</th>\n",
       "      <td>0.8281</td>\n",
       "      <td>0.8333</td>\n",
       "      <td>0.8438</td>\n",
       "      <td>0.8490</td>\n",
       "    </tr>\n",
       "    <tr>\n",
       "      <th>03 Score diff</th>\n",
       "      <td>0.1549</td>\n",
       "      <td>0.0922</td>\n",
       "      <td>0.1131</td>\n",
       "      <td>0.1222</td>\n",
       "    </tr>\n",
       "    <tr>\n",
       "      <th>04 Precision</th>\n",
       "      <td>0.8516</td>\n",
       "      <td>0.8873</td>\n",
       "      <td>0.8256</td>\n",
       "      <td>0.8383</td>\n",
       "    </tr>\n",
       "    <tr>\n",
       "      <th>05 Specificity</th>\n",
       "      <td>0.5400</td>\n",
       "      <td>0.6800</td>\n",
       "      <td>0.4000</td>\n",
       "      <td>0.4600</td>\n",
       "    </tr>\n",
       "    <tr>\n",
       "      <th>06 Sensitivity</th>\n",
       "      <td>0.9296</td>\n",
       "      <td>0.8873</td>\n",
       "      <td>1.0000</td>\n",
       "      <td>0.9859</td>\n",
       "    </tr>\n",
       "    <tr>\n",
       "      <th>07 F1 Score</th>\n",
       "      <td>0.8889</td>\n",
       "      <td>0.8873</td>\n",
       "      <td>0.9045</td>\n",
       "      <td>0.9061</td>\n",
       "    </tr>\n",
       "    <tr>\n",
       "      <th>08 True Negatives</th>\n",
       "      <td>27</td>\n",
       "      <td>34</td>\n",
       "      <td>20</td>\n",
       "      <td>23</td>\n",
       "    </tr>\n",
       "    <tr>\n",
       "      <th>09 False Positives</th>\n",
       "      <td>23</td>\n",
       "      <td>16</td>\n",
       "      <td>30</td>\n",
       "      <td>27</td>\n",
       "    </tr>\n",
       "    <tr>\n",
       "      <th>10 False Negatives</th>\n",
       "      <td>10</td>\n",
       "      <td>16</td>\n",
       "      <td>0</td>\n",
       "      <td>2</td>\n",
       "    </tr>\n",
       "    <tr>\n",
       "      <th>11 True Positives</th>\n",
       "      <td>132</td>\n",
       "      <td>126</td>\n",
       "      <td>142</td>\n",
       "      <td>140</td>\n",
       "    </tr>\n",
       "    <tr>\n",
       "      <th>12 Train ROC Score</th>\n",
       "      <td>0.9982</td>\n",
       "      <td>0.9789</td>\n",
       "      <td>0.9948</td>\n",
       "      <td>0.9980</td>\n",
       "    </tr>\n",
       "    <tr>\n",
       "      <th>13 Test ROC Score</th>\n",
       "      <td>0.9190</td>\n",
       "      <td>0.8874</td>\n",
       "      <td>0.9018</td>\n",
       "      <td>0.9013</td>\n",
       "    </tr>\n",
       "  </tbody>\n",
       "</table>\n",
       "</div>"
      ],
      "text/plain": [
       "                   log_reg      nb      rf     xgb\n",
       "01 Train score      0.9830  0.9255  0.9569  0.9712\n",
       "02 Test score       0.8281  0.8333  0.8438  0.8490\n",
       "03 Score diff       0.1549  0.0922  0.1131  0.1222\n",
       "04 Precision        0.8516  0.8873  0.8256  0.8383\n",
       "05 Specificity      0.5400  0.6800  0.4000  0.4600\n",
       "06 Sensitivity      0.9296  0.8873  1.0000  0.9859\n",
       "07 F1 Score         0.8889  0.8873  0.9045  0.9061\n",
       "08 True Negatives       27      34      20      23\n",
       "09 False Positives      23      16      30      27\n",
       "10 False Negatives      10      16       0       2\n",
       "11 True Positives      132     126     142     140\n",
       "12 Train ROC Score  0.9982  0.9789  0.9948  0.9980\n",
       "13 Test ROC Score   0.9190  0.8874  0.9018  0.9013"
      ]
     },
     "execution_count": 21,
     "metadata": {},
     "output_type": "execute_result"
    }
   ],
   "source": [
    "pd.DataFrame(metrics)"
   ]
  },
  {
   "cell_type": "markdown",
   "metadata": {},
   "source": [
    "### SVC"
   ]
  },
  {
   "cell_type": "code",
   "execution_count": 22,
   "metadata": {},
   "outputs": [],
   "source": [
    "svc_pipe = Pipeline([\n",
    "\n",
    "    ('selector', get_text_data),\n",
    "    ('vectorizer', TfidfVectorizer(ngram_range=(1,2),\n",
    "                                  stop_words='english')), \n",
    "    ('sampling', SMOTE(random_state=42)),\n",
    "    ('scale', MaxAbsScaler()),\n",
    "    ('clf', SVC(probability=True)),\n",
    "\n",
    "])\n",
    "\n",
    "svc_params = {\n",
    "    \n",
    "    'clf__kernel': ['rbf', 'poly'],\n",
    "    'clf__gamma': [0.1, 1, 10, 100],\n",
    "    'clf__C': [0.1, 1, 10, 100, 1000],\n",
    "    'clf__degree': [0, 1, 2, 3, 4, 5, 6]\n",
    "}"
   ]
  },
  {
   "cell_type": "code",
   "execution_count": 23,
   "metadata": {},
   "outputs": [
    {
     "name": "stdout",
     "output_type": "stream",
     "text": [
      "svc->Best params: {'clf__kernel': 'poly', 'clf__gamma': 100, 'clf__degree': 1, 'clf__C': 0.1}\n",
      "CPU times: user 1min 45s, sys: 586 ms, total: 1min 46s\n",
      "Wall time: 1min 47s\n"
     ]
    },
    {
     "data": {
      "image/png": "[encoded data removed]",
      "text/plain": [
       "<Figure size 864x360 with 3 Axes>"
      ]
     },
     "metadata": {},
     "output_type": "display_data"
    }
   ],
   "source": [
    "%%time\n",
    "metrics['svc'] = score_metrics('svc', svc_pipe, svc_params, X_train, y_train, \n",
    "                              X_test, y_test,'roc_auc', models, preds_df)"
   ]
  },
  {
   "cell_type": "code",
   "execution_count": 24,
   "metadata": {},
   "outputs": [
    {
     "data": {
      "text/html": [
       "<div>\n",
       "<style scoped>\n",
       "    .dataframe tbody tr th:only-of-type {\n",
       "        vertical-align: middle;\n",
       "    }\n",
       "\n",
       "    .dataframe tbody tr th {\n",
       "        vertical-align: top;\n",
       "    }\n",
       "\n",
       "    .dataframe thead th {\n",
       "        text-align: right;\n",
       "    }\n",
       "</style>\n",
       "<table border=\"1\" class=\"dataframe\">\n",
       "  <thead>\n",
       "    <tr style=\"text-align: right;\">\n",
       "      <th></th>\n",
       "      <th>log_reg</th>\n",
       "      <th>nb</th>\n",
       "      <th>rf</th>\n",
       "      <th>xgb</th>\n",
       "      <th>svc</th>\n",
       "    </tr>\n",
       "  </thead>\n",
       "  <tbody>\n",
       "    <tr>\n",
       "      <th>01 Train score</th>\n",
       "      <td>0.9830</td>\n",
       "      <td>0.9255</td>\n",
       "      <td>0.9569</td>\n",
       "      <td>0.9712</td>\n",
       "      <td>1.0000</td>\n",
       "    </tr>\n",
       "    <tr>\n",
       "      <th>02 Test score</th>\n",
       "      <td>0.8281</td>\n",
       "      <td>0.8333</td>\n",
       "      <td>0.8438</td>\n",
       "      <td>0.8490</td>\n",
       "      <td>0.8646</td>\n",
       "    </tr>\n",
       "    <tr>\n",
       "      <th>03 Score diff</th>\n",
       "      <td>0.1549</td>\n",
       "      <td>0.0922</td>\n",
       "      <td>0.1131</td>\n",
       "      <td>0.1222</td>\n",
       "      <td>0.1354</td>\n",
       "    </tr>\n",
       "    <tr>\n",
       "      <th>04 Precision</th>\n",
       "      <td>0.8516</td>\n",
       "      <td>0.8873</td>\n",
       "      <td>0.8256</td>\n",
       "      <td>0.8383</td>\n",
       "      <td>0.8580</td>\n",
       "    </tr>\n",
       "    <tr>\n",
       "      <th>05 Specificity</th>\n",
       "      <td>0.5400</td>\n",
       "      <td>0.6800</td>\n",
       "      <td>0.4000</td>\n",
       "      <td>0.4600</td>\n",
       "      <td>0.5400</td>\n",
       "    </tr>\n",
       "    <tr>\n",
       "      <th>06 Sensitivity</th>\n",
       "      <td>0.9296</td>\n",
       "      <td>0.8873</td>\n",
       "      <td>1.0000</td>\n",
       "      <td>0.9859</td>\n",
       "      <td>0.9789</td>\n",
       "    </tr>\n",
       "    <tr>\n",
       "      <th>07 F1 Score</th>\n",
       "      <td>0.8889</td>\n",
       "      <td>0.8873</td>\n",
       "      <td>0.9045</td>\n",
       "      <td>0.9061</td>\n",
       "      <td>0.9145</td>\n",
       "    </tr>\n",
       "    <tr>\n",
       "      <th>08 True Negatives</th>\n",
       "      <td>27</td>\n",
       "      <td>34</td>\n",
       "      <td>20</td>\n",
       "      <td>23</td>\n",
       "      <td>27</td>\n",
       "    </tr>\n",
       "    <tr>\n",
       "      <th>09 False Positives</th>\n",
       "      <td>23</td>\n",
       "      <td>16</td>\n",
       "      <td>30</td>\n",
       "      <td>27</td>\n",
       "      <td>23</td>\n",
       "    </tr>\n",
       "    <tr>\n",
       "      <th>10 False Negatives</th>\n",
       "      <td>10</td>\n",
       "      <td>16</td>\n",
       "      <td>0</td>\n",
       "      <td>2</td>\n",
       "      <td>3</td>\n",
       "    </tr>\n",
       "    <tr>\n",
       "      <th>11 True Positives</th>\n",
       "      <td>132</td>\n",
       "      <td>126</td>\n",
       "      <td>142</td>\n",
       "      <td>140</td>\n",
       "      <td>139</td>\n",
       "    </tr>\n",
       "    <tr>\n",
       "      <th>12 Train ROC Score</th>\n",
       "      <td>0.9982</td>\n",
       "      <td>0.9789</td>\n",
       "      <td>0.9948</td>\n",
       "      <td>0.9980</td>\n",
       "      <td>1.0000</td>\n",
       "    </tr>\n",
       "    <tr>\n",
       "      <th>13 Test ROC Score</th>\n",
       "      <td>0.9190</td>\n",
       "      <td>0.8874</td>\n",
       "      <td>0.9018</td>\n",
       "      <td>0.9013</td>\n",
       "      <td>0.9449</td>\n",
       "    </tr>\n",
       "  </tbody>\n",
       "</table>\n",
       "</div>"
      ],
      "text/plain": [
       "                   log_reg      nb      rf     xgb     svc\n",
       "01 Train score      0.9830  0.9255  0.9569  0.9712  1.0000\n",
       "02 Test score       0.8281  0.8333  0.8438  0.8490  0.8646\n",
       "03 Score diff       0.1549  0.0922  0.1131  0.1222  0.1354\n",
       "04 Precision        0.8516  0.8873  0.8256  0.8383  0.8580\n",
       "05 Specificity      0.5400  0.6800  0.4000  0.4600  0.5400\n",
       "06 Sensitivity      0.9296  0.8873  1.0000  0.9859  0.9789\n",
       "07 F1 Score         0.8889  0.8873  0.9045  0.9061  0.9145\n",
       "08 True Negatives       27      34      20      23      27\n",
       "09 False Positives      23      16      30      27      23\n",
       "10 False Negatives      10      16       0       2       3\n",
       "11 True Positives      132     126     142     140     139\n",
       "12 Train ROC Score  0.9982  0.9789  0.9948  0.9980  1.0000\n",
       "13 Test ROC Score   0.9190  0.8874  0.9018  0.9013  0.9449"
      ]
     },
     "execution_count": 24,
     "metadata": {},
     "output_type": "execute_result"
    }
   ],
   "source": [
    "pd.DataFrame(metrics)"
   ]
  },
  {
   "cell_type": "code",
   "execution_count": null,
   "metadata": {},
   "outputs": [],
   "source": []
  },
  {
   "cell_type": "markdown",
   "metadata": {},
   "source": [
    "## Model Selection : MultinomialNB"
   ]
  },
  {
   "cell_type": "markdown",
   "metadata": {},
   "source": [
    "After comparing the 5 models, MultinomialNB has the best overall score with an accuracy of 0.833 and lowest score difference of 0.092 which sugest that it is the least overfitted model among the rest. All models seems to be slightly overfitted suggest high variance exist in the models. The test score for all 5 models hover around 0.8 but MNB has the lowest false positives which is important factor when we deploy this model for trading. Trading on false positives might result financial loss. Hence we rather to missed good trade than to trade on false signals. "
   ]
  },
  {
   "cell_type": "code",
   "execution_count": 36,
   "metadata": {},
   "outputs": [],
   "source": [
    "def get_feature_impt(model):\n",
    "    coef = np.exp(models[model].best_estimator_['clf'].coef_[0])\n",
    "    features_name = models[model].best_estimator_['vectorizer'].get_feature_names()\n",
    "    features_select = models[model].best_estimator_['feature_selection'].get_support()\n",
    "    \n",
    "    impt_features = []\n",
    "\n",
    "    for bool, feature in zip(features_select, features_name):\n",
    "        if bool:\n",
    "            impt_features.append(feature)\n",
    "        \n",
    "    return pd.DataFrame(zip(impt_features,coef), columns=['feature', 'importance'])"
   ]
  },
  {
   "cell_type": "code",
   "execution_count": 37,
   "metadata": {},
   "outputs": [],
   "source": [
    "features = get_feature_impt('nb')"
   ]
  },
  {
   "cell_type": "code",
   "execution_count": 40,
   "metadata": {},
   "outputs": [
    {
     "data": {
      "image/png": "[encoded data removed]",
      "text/plain": [
       "<Figure size 720x576 with 1 Axes>"
      ]
     },
     "metadata": {},
     "output_type": "display_data"
    }
   ],
   "source": [
    "fig, ax = plt.subplots(figsize=(10,8))\n",
    "mask = features.sort_values(by='importance', ascending=False).head(10)\n",
    "mask.plot(kind='barh' ,ax=ax)\n",
    "ax.set_yticklabels([name.capitalize() for name in mask['feature']]);\n",
    "ax.set_ylabel('Features')\n",
    "ax.set_xlabel('Importance')\n",
    "ax.set_title('Top 10 features')\n",
    "fig.gca().invert_yaxis()"
   ]
  },
  {
   "cell_type": "markdown",
   "metadata": {},
   "source": [
    "The above chart shows the top 10 features with highest coefficient. This suggest that tweets that contain these words have a higher probability of the market moving upwards. "
   ]
  },
  {
   "cell_type": "markdown",
   "metadata": {},
   "source": [
    "## Recommendation: Backtesting \n",
    "\n",
    "Based on the predictions, i have created a simple trading strategy to backtest on the S&P500 index. We will be focusing only on buy signals for this strategy. 1 indicating buy signal and 0 to do nothing. The strategy is to buy at tommorrow's open and sell at tomorrow’s close if the tweet is predicted 1. "
   ]
  },
  {
   "cell_type": "code",
   "execution_count": 41,
   "metadata": {},
   "outputs": [
    {
     "name": "stdout",
     "output_type": "stream",
     "text": [
      "<class 'pandas.core.frame.DataFrame'>\n",
      "RangeIndex: 937 entries, 0 to 936\n",
      "Data columns (total 9 columns):\n",
      " #   Column       Non-Null Count  Dtype  \n",
      "---  ------       --------------  -----  \n",
      " 0   date         937 non-null    object \n",
      " 1   open         937 non-null    float64\n",
      " 2   high         937 non-null    float64\n",
      " 3   low          937 non-null    float64\n",
      " 4   close        937 non-null    float64\n",
      " 5   volume       937 non-null    int64  \n",
      " 6   change_pc    937 non-null    float64\n",
      " 7   target       937 non-null    int64  \n",
      " 8   prev_change  937 non-null    float64\n",
      "dtypes: float64(6), int64(2), object(1)\n",
      "memory usage: 66.0+ KB\n"
     ]
    }
   ],
   "source": [
    "#load the S&P 500 data \n",
    "market = pd.read_csv('../datasets/cleaned_market.csv')\n",
    "market.info()"
   ]
  },
  {
   "cell_type": "code",
   "execution_count": 42,
   "metadata": {},
   "outputs": [],
   "source": [
    "#set the datetime format\n",
    "market.date = pd.to_datetime(market.date)\n",
    "market.set_index('date', inplace=True)"
   ]
  },
  {
   "cell_type": "code",
   "execution_count": 43,
   "metadata": {},
   "outputs": [],
   "source": [
    "#drop unneccessary columns\n",
    "market.drop(columns=['prev_change'], inplace=True)"
   ]
  },
  {
   "cell_type": "code",
   "execution_count": 44,
   "metadata": {},
   "outputs": [],
   "source": [
    "#create a copy of the predictions that i have created during the modeling\n",
    "preds = preds_df.copy()"
   ]
  },
  {
   "cell_type": "code",
   "execution_count": 45,
   "metadata": {},
   "outputs": [],
   "source": [
    "#set datetime format\n",
    "preds.trade_date = pd.to_datetime(preds.trade_date)"
   ]
  },
  {
   "cell_type": "code",
   "execution_count": 46,
   "metadata": {},
   "outputs": [],
   "source": [
    "#sort the prediction by dates\n",
    "preds = preds.sort_values(by='trade_date')"
   ]
  },
  {
   "cell_type": "code",
   "execution_count": 47,
   "metadata": {},
   "outputs": [],
   "source": [
    "#filter only NB predictions together with the date and text\n",
    "preds = preds[['trade_date', 'text', 'nb']]\n",
    "preds.rename(columns={'trade_date': 'date'}, inplace=True)"
   ]
  },
  {
   "cell_type": "code",
   "execution_count": 48,
   "metadata": {},
   "outputs": [],
   "source": [
    "#merge the prediction to the market data\n",
    "preds = pd.merge(market, preds, how='outer', on='date')"
   ]
  },
  {
   "cell_type": "code",
   "execution_count": 49,
   "metadata": {},
   "outputs": [],
   "source": [
    "#set datetime as index\n",
    "preds.set_index('date', inplace=True)"
   ]
  },
  {
   "cell_type": "code",
   "execution_count": 50,
   "metadata": {},
   "outputs": [
    {
     "data": {
      "text/plain": [
       "open          62\n",
       "high          62\n",
       "low           62\n",
       "close         62\n",
       "volume        62\n",
       "change_pc     62\n",
       "target        62\n",
       "text         817\n",
       "nb           817\n",
       "dtype: int64"
      ]
     },
     "execution_count": 50,
     "metadata": {},
     "output_type": "execute_result"
    }
   ],
   "source": [
    "#check for nulls\n",
    "preds.isnull().sum()"
   ]
  },
  {
   "cell_type": "code",
   "execution_count": 51,
   "metadata": {},
   "outputs": [],
   "source": [
    "#the duplicates here suggest that there are multiple buy signals on the same day \n",
    "#therefore we drop these duplicates\n",
    "preds = preds.drop_duplicates(subset=[col for col in preds.columns if col != 'text'])"
   ]
  },
  {
   "cell_type": "code",
   "execution_count": 52,
   "metadata": {},
   "outputs": [
    {
     "data": {
      "text/plain": [
       "open           2\n",
       "high           2\n",
       "low            2\n",
       "close          2\n",
       "volume         2\n",
       "change_pc      2\n",
       "target         2\n",
       "text         817\n",
       "nb           817\n",
       "dtype: int64"
      ]
     },
     "execution_count": 52,
     "metadata": {},
     "output_type": "execute_result"
    }
   ],
   "source": [
    "preds.isnull().sum()"
   ]
  },
  {
   "cell_type": "code",
   "execution_count": 53,
   "metadata": {},
   "outputs": [],
   "source": [
    "#fill null with 0 since we will only be focusing on buy signals\n",
    "preds['nb'].fillna(0, inplace=True)"
   ]
  },
  {
   "cell_type": "code",
   "execution_count": 54,
   "metadata": {},
   "outputs": [],
   "source": [
    "preds = preds[:-2].copy()"
   ]
  },
  {
   "cell_type": "code",
   "execution_count": 55,
   "metadata": {},
   "outputs": [],
   "source": [
    "#create new columns for cumulative returns for NB model and S&P 500 \n",
    "preds['nb_returns'] = (preds['nb'] * preds['change_pc']) \n",
    "preds['cum_returns'] = (preds['change_pc'] + 1).cumprod() - 1\n",
    "preds['nb_cum_returns'] = (preds['nb_returns'] + 1).cumprod() - 1"
   ]
  },
  {
   "cell_type": "code",
   "execution_count": 56,
   "metadata": {},
   "outputs": [],
   "source": [
    "#a list of all buy signals and it's cumulative returns\n",
    "long_trades = preds.loc[preds['nb'] == 1, 'cum_returns']"
   ]
  },
  {
   "cell_type": "code",
   "execution_count": 57,
   "metadata": {},
   "outputs": [
    {
     "data": {
      "text/plain": [
       "<matplotlib.legend.Legend at 0x7fa22bba7cd0>"
      ]
     },
     "execution_count": 57,
     "metadata": {},
     "output_type": "execute_result"
    },
    {
     "data": {
      "image/png": "[encoded data removed]",
      "text/plain": [
       "<Figure size 864x576 with 1 Axes>"
      ]
     },
     "metadata": {},
     "output_type": "display_data"
    }
   ],
   "source": [
    "#plot the backtesting strategy \n",
    "fig, ax = plt.subplots(figsize=(12,8))\n",
    "preds['cum_returns'].plot(label='S&P 500')\n",
    "preds['nb_cum_returns'].plot(label='Portfolio', c='green')\n",
    "ax.set_xlabel('Date')\n",
    "ax.set_ylabel('Cumulative Returns')\n",
    "\n",
    "for k,v in long_trades.iteritems():\n",
    "    ax.annotate(' ', xy=(k, v), xycoords='data',\n",
    "            arrowprops=dict(facecolor='red', mutation_aspect=1, mutation_scale=0.7),)\n",
    "\n",
    "ax.set_title(\"Day Trade vs Buy and Hold\", fontsize=20)\n",
    "ax.legend()"
   ]
  },
  {
   "cell_type": "markdown",
   "metadata": {},
   "source": [
    "# Conclusion"
   ]
  },
  {
   "cell_type": "markdown",
   "metadata": {},
   "source": [
    "The trading strategy based on our prediction model returned a 72% vs a buy and hold strategy of 52% over the same period of time. We also observed that the returns of the strategy was behind until around March 2020 when there's a heavy selloff in the market. Even thou returns was lower but this strategy greatly reduce the volatility in the portfolio. Having a buy and hold strategy means that you expose yourself to the 100% volatility in the market. You can clearly see that during selloff in March 2020, not only our strategy was not impacted by the selloff but on the other hand we made around 20%.\n",
    "\n",
    "However we also need to be aware that there's a possibility that we are just lucky. Majority of the buy signals were generated in market uptrends, in a trending bull market it will generate more buy signals and President Trump tweets might just coincide with other market mover such as non farm payroll events, FED economic data release, or other factors. For this project we will state that his tweets does have a positive relationship with market returns. "
   ]
  },
  {
   "cell_type": "markdown",
   "metadata": {},
   "source": [
    "In conclusion, through topic modelling with LDA and VADER sentiment analysis we were able to filter out the noise of President Trump tweets and isolate his sentiment towards trade and economy related issues. Using a MultinomialNB model to classify President Trump tweets that have positive impact on the market and use those predictions over a backtest was profitable and outperform the buy and hold strategy. But we also need to be aware of the limitations and assumptions made when building this model."
   ]
  },
  {
   "cell_type": "code",
   "execution_count": null,
   "metadata": {},
   "outputs": [],
   "source": []
  },
  {
   "cell_type": "code",
   "execution_count": null,
   "metadata": {},
   "outputs": [],
   "source": []
  }
 ],
 "metadata": {
  "kernelspec": {
   "display_name": "Python 3",
   "language": "python",
   "name": "python3"
  },
  "language_info": {
   "codemirror_mode": {
    "name": "ipython",
    "version": 3
   },
   "file_extension": ".py",
   "mimetype": "text/x-python",
   "name": "python",
   "nbconvert_exporter": "python",
   "pygments_lexer": "ipython3",
   "version": "3.7.6"
  }
 },
 "nbformat": 4,
 "nbformat_minor": 4
}
