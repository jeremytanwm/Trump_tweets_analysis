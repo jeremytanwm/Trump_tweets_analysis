{
 "cells": [
  {
   "cell_type": "code",
   "execution_count": 160,
   "metadata": {},
   "outputs": [],
   "source": [
    "#pipeline models\n",
    "from sklearn.pipeline import Pipeline\n",
    "from sklearn.pipeline import FeatureUnion\n",
    "from sklearn.model_selection import GridSearchCV, RandomizedSearchCV\n",
    "from sklearn.decomposition import TruncatedSVD\n",
    "\n",
    "# pre processing\n",
    "from sklearn.preprocessing import StandardScaler, MinMaxScaler, MaxAbsScaler, RobustScaler\n",
    "from sklearn.preprocessing import FunctionTransformer\n",
    "from sklearn.feature_extraction.text import CountVectorizer, TfidfVectorizer\n",
    "from sklearn.preprocessing import PolynomialFeatures\n",
    "from sklearn.feature_selection import chi2, SelectKBest, f_classif\n",
    "from sklearn.model_selection import train_test_split, cross_val_score\n",
    "\n",
    "# classifiers\n",
    "from sklearn.linear_model import LogisticRegression\n",
    "from sklearn.naive_bayes import MultinomialNB\n",
    "from sklearn.ensemble import RandomForestClassifier\n",
    "from xgboost import XGBClassifier\n",
    "from xgboost import plot_importance\n",
    "from sklearn.svm import SVC\n",
    "\n",
    "\n",
    "#scoring metrics\n",
    "from sklearn.metrics import roc_auc_score, confusion_matrix, classification_report\n",
    "from sklearn.metrics import accuracy_score, recall_score, f1_score, plot_roc_curve, plot_confusion_matrix\n",
    "\n",
    "\n",
    "import pandas as pd\n",
    "import numpy as np\n",
    "import matplotlib.pyplot as plt\n",
    "import seaborn as sns\n",
    "from imblearn.over_sampling import SMOTE\n",
    "from imblearn.pipeline import Pipeline\n",
    "\n",
    "pd.set_option(\"display.max_rows\", 9999)\n",
    "pd.set_option(\"display.max_columns\", 9999)\n",
    "plt.style.use('seaborn')\n"
   ]
  },
  {
   "cell_type": "code",
   "execution_count": 133,
   "metadata": {},
   "outputs": [],
   "source": [
    "tweets = pd.read_csv('../datasets/final_tweets.csv')"
   ]
  },
  {
   "cell_type": "markdown",
   "metadata": {},
   "source": [
    "#### Baseline score : 50%"
   ]
  },
  {
   "cell_type": "code",
   "execution_count": 135,
   "metadata": {},
   "outputs": [
    {
     "data": {
      "text/plain": [
       "Index(['source', 'text', 'created_at', 'retweet_count', 'favorite_count',\n",
       "       'clean_text', 'year', 'month', 'day', 'year_month', 'day_of_week',\n",
       "       'hour_of_day', 'handle', 'word_count', 'trade_date', 'prev_change',\n",
       "       'change_pc', 'target', 'char_count', 'lemmas_token', 'lemmas_text',\n",
       "       'topic_0', 'topic_1', 'topic_2', 'topic_3', 'topic_4', 'topic_5',\n",
       "       'dominant_topic', 'compound_score', 'neg_score', 'neu_score',\n",
       "       'pos_score'],\n",
       "      dtype='object')"
      ]
     },
     "execution_count": 135,
     "metadata": {},
     "output_type": "execute_result"
    }
   ],
   "source": [
    "tweets.columns"
   ]
  },
  {
   "cell_type": "code",
   "execution_count": 136,
   "metadata": {},
   "outputs": [],
   "source": [
    "features = ['trade_date', 'text', 'lemmas_text', 'target']\n",
    "\n",
    "X = tweets[features]\n",
    "y = tweets['target']"
   ]
  },
  {
   "cell_type": "code",
   "execution_count": 137,
   "metadata": {},
   "outputs": [
    {
     "data": {
      "text/plain": [
       "((957, 4), (957,))"
      ]
     },
     "execution_count": 137,
     "metadata": {},
     "output_type": "execute_result"
    }
   ],
   "source": [
    "X.shape, y.shape"
   ]
  },
  {
   "cell_type": "code",
   "execution_count": 138,
   "metadata": {},
   "outputs": [],
   "source": [
    "#split to training and testing set(final test)\n",
    "X_train, X_test, y_train, y_test = train_test_split(X, y, test_size=0.2, \n",
    "                                                    random_state=42, stratify=y)"
   ]
  },
  {
   "cell_type": "code",
   "execution_count": 139,
   "metadata": {},
   "outputs": [],
   "source": [
    "# Obtain the text data\n",
    "get_text_data = FunctionTransformer(lambda x: x['lemmas_text'], validate=False)\n"
   ]
  },
  {
   "cell_type": "code",
   "execution_count": 140,
   "metadata": {},
   "outputs": [],
   "source": [
    "#Create an empty dictionary to store the metric score when function is called\n",
    "metrics = {}\n",
    "# dictionary to hold the models for each runs\n",
    "models = {}\n",
    "# Dataframe to hold the predictions for validataion set\n",
    "preds_df = X_test.copy()"
   ]
  },
  {
   "cell_type": "code",
   "execution_count": 173,
   "metadata": {},
   "outputs": [],
   "source": [
    "def score_metrics(model_name, pipe, params,  X_train, y_train, X_test, y_test, scoring,  models, preds_df):\n",
    "    \n",
    "    \"\"\" \n",
    "    Function to fit and collect model metrics\n",
    "  \n",
    "    Parameters: \n",
    "        tag (str): name for this pipeline\n",
    "        pipe (pipeline): pipeline to be executed\n",
    "\t\tparam (dict): dictionary of parameters to be used\n",
    "        X_train (Series): Series holding the train feature\n",
    "        X_test (Series): Series holding the test feature\n",
    "        y_train (Series): Series holding the train target\n",
    "        y_test (Series): Series holding the test target\n",
    "        scoring (str): scoring metric for the search\n",
    "        \n",
    "    \"\"\"\n",
    "\n",
    "#     gs = GridSearchCV(pipe, param_grid=params, cv=5,\n",
    "#                             scoring=scoring)\n",
    "    \n",
    "    gs = RandomizedSearchCV(pipe, param_distributions=params, cv=5, n_iter=20,\n",
    "                            scoring=scoring)    \n",
    "    gs.fit(X_train, y_train)\n",
    "    bm = gs.best_estimator_\n",
    "    models[model_name] = gs\n",
    "    y_pred = bm.predict(X_test)\n",
    "    preds_df[model_name]=y_pred\n",
    "    print(f'{model_name}->Best params: {gs.best_params_}')\n",
    "    \n",
    "    metric = {}\n",
    "    metric['01 Train score'] = f'{bm.score(X_train, y_train):,.4f}'\n",
    "    metric['02 Test score'] = f'{bm.score(X_test, y_test):,.4f}'\n",
    "    metric['03 Score diff'] = float(metric['01 Train score'])-float(metric['02 Test score'])\n",
    "\n",
    "    # calculate Specificity and Sensitivity\n",
    "    tn, fp, fn, tp = confusion_matrix(y_test, y_pred).ravel()\n",
    "    metric['04 Precision'] = f'{(tp /(tp + fp)):.4f}'\n",
    "    metric['05 Specificity'] = f'{(tn / (tn + fp)):.4f}'\n",
    "    metric['06 Sensitivity'] = f'{(tp / (tp + fn)):.4f}'\n",
    "    metric['07 F1 Score'] = f'{f1_score(y_test, y_pred):.4f}'\n",
    "    metric['08 True Negatives'] = tn\n",
    "    metric['09 False Positives'] = fp\n",
    "    metric['10 False Negatives'] = fn\n",
    "    metric['11 True Positives'] = tp\n",
    "    metric['12 Train ROC Score'] = f'{roc_auc_score(y_train, bm.predict_proba(X_train)[:,1]):,.4f}'\n",
    "    metric['13 Test ROC Score'] = f'{roc_auc_score(y_test, bm.predict_proba(X_test)[:,1]):,.4f}'\n",
    "\n",
    "    # plot roc and confusion matrix\n",
    "    fig, ax = plt.subplots(nrows=1, ncols=2, figsize=(12,5))\n",
    "    plot_roc_curve(bm, X_test, y_test, name=model_name, ax=ax[0]);\n",
    "    # Plot baseline. (Perfect overlap between the two populations.)\n",
    "    ax[0].plot(np.linspace(0, 1, 200), np.linspace(0, 1, 200),\n",
    "             label='baseline', linestyle='--')\n",
    "    plot_confusion_matrix(bm, X_test, y_test, ax=ax[1], cmap='RdPu');\n",
    "    ax[0].set_title(f'ROC for {model_name}');\n",
    "    ax[1].set_title(f'Confusion Matrix for {model_name}');\n",
    "    \n",
    "    return metric"
   ]
  },
  {
   "cell_type": "markdown",
   "metadata": {},
   "source": [
    "### Logistic Regression"
   ]
  },
  {
   "cell_type": "code",
   "execution_count": 174,
   "metadata": {},
   "outputs": [],
   "source": [
    "logreg_pipe = Pipeline([\n",
    "    ('selector', get_text_data),\n",
    "    ('vectorizer', TfidfVectorizer(ngram_range=(1,2), stop_words='english')),\n",
    "    ('sampling', SMOTE(random_state=42)),\n",
    "    ('clf', LogisticRegression(solver='liblinear'))\n",
    "\n",
    "])\n",
    "\n",
    "lr_params = {\n",
    "\n",
    "    'clf__penalty': ['l1', 'l2'],\n",
    "    'clf__C': [0.1, 0.01, 0.001]\n",
    "\n",
    "}"
   ]
  },
  {
   "cell_type": "code",
   "execution_count": 175,
   "metadata": {},
   "outputs": [
    {
     "name": "stderr",
     "output_type": "stream",
     "text": [
      "/Users/jeremytan/opt/anaconda3/lib/python3.7/site-packages/sklearn/model_selection/_search.py:282: UserWarning: The total space of parameters 6 is smaller than n_iter=20. Running 6 iterations. For exhaustive searches, use GridSearchCV.\n",
      "  % (grid_size, self.n_iter, grid_size), UserWarning)\n"
     ]
    },
    {
     "name": "stdout",
     "output_type": "stream",
     "text": [
      "log_reg->Best params: {'clf__penalty': 'l2', 'clf__C': 0.1}\n",
      "CPU times: user 2.85 s, sys: 50.2 ms, total: 2.9 s\n",
      "Wall time: 1.82 s\n"
     ]
    },
    {
     "data": {
      "image/png": "[encoded data removed]",
      "text/plain": [
       "<Figure size 864x360 with 3 Axes>"
      ]
     },
     "metadata": {},
     "output_type": "display_data"
    }
   ],
   "source": [
    "%%time\n",
    "metrics['log_reg'] = score_metrics('log_reg', logreg_pipe, \n",
    "                                   lr_params, X_train, \n",
    "                                   y_train, X_test, \n",
    "                                   y_test, 'roc_auc', models, preds_df)"
   ]
  },
  {
   "cell_type": "code",
   "execution_count": 176,
   "metadata": {},
   "outputs": [
    {
     "data": {
      "text/html": [
       "<div>\n",
       "<style scoped>\n",
       "    .dataframe tbody tr th:only-of-type {\n",
       "        vertical-align: middle;\n",
       "    }\n",
       "\n",
       "    .dataframe tbody tr th {\n",
       "        vertical-align: top;\n",
       "    }\n",
       "\n",
       "    .dataframe thead th {\n",
       "        text-align: right;\n",
       "    }\n",
       "</style>\n",
       "<table border=\"1\" class=\"dataframe\">\n",
       "  <thead>\n",
       "    <tr style=\"text-align: right;\">\n",
       "      <th></th>\n",
       "      <th>log_reg</th>\n",
       "      <th>nb</th>\n",
       "      <th>rf</th>\n",
       "      <th>xgb</th>\n",
       "      <th>svc</th>\n",
       "    </tr>\n",
       "  </thead>\n",
       "  <tbody>\n",
       "    <tr>\n",
       "      <th>01 Train score</th>\n",
       "      <td>0.9830</td>\n",
       "      <td>0.9490</td>\n",
       "      <td>0.9948</td>\n",
       "      <td>0.9817</td>\n",
       "      <td>1.0000</td>\n",
       "    </tr>\n",
       "    <tr>\n",
       "      <th>02 Test score</th>\n",
       "      <td>0.8281</td>\n",
       "      <td>0.8490</td>\n",
       "      <td>0.8490</td>\n",
       "      <td>0.8438</td>\n",
       "      <td>0.7500</td>\n",
       "    </tr>\n",
       "    <tr>\n",
       "      <th>03 Score diff</th>\n",
       "      <td>0.1549</td>\n",
       "      <td>0.1</td>\n",
       "      <td>0.1458</td>\n",
       "      <td>0.1379</td>\n",
       "      <td>0.25</td>\n",
       "    </tr>\n",
       "    <tr>\n",
       "      <th>04 Precision</th>\n",
       "      <td>0.8516</td>\n",
       "      <td>0.8742</td>\n",
       "      <td>0.8304</td>\n",
       "      <td>0.8333</td>\n",
       "      <td>0.7474</td>\n",
       "    </tr>\n",
       "    <tr>\n",
       "      <th>05 Specificity</th>\n",
       "      <td>0.5400</td>\n",
       "      <td>0.6200</td>\n",
       "      <td>0.4200</td>\n",
       "      <td>0.4400</td>\n",
       "      <td>0.0400</td>\n",
       "    </tr>\n",
       "    <tr>\n",
       "      <th>06 Sensitivity</th>\n",
       "      <td>0.9296</td>\n",
       "      <td>0.9296</td>\n",
       "      <td>1.0000</td>\n",
       "      <td>0.9859</td>\n",
       "      <td>1.0000</td>\n",
       "    </tr>\n",
       "    <tr>\n",
       "      <th>07 F1 Score</th>\n",
       "      <td>0.8889</td>\n",
       "      <td>0.9010</td>\n",
       "      <td>0.9073</td>\n",
       "      <td>0.9032</td>\n",
       "      <td>0.8554</td>\n",
       "    </tr>\n",
       "    <tr>\n",
       "      <th>08 True Negatives</th>\n",
       "      <td>27</td>\n",
       "      <td>31</td>\n",
       "      <td>21</td>\n",
       "      <td>22</td>\n",
       "      <td>2</td>\n",
       "    </tr>\n",
       "    <tr>\n",
       "      <th>09 False Positives</th>\n",
       "      <td>23</td>\n",
       "      <td>19</td>\n",
       "      <td>29</td>\n",
       "      <td>28</td>\n",
       "      <td>48</td>\n",
       "    </tr>\n",
       "    <tr>\n",
       "      <th>10 False Negatives</th>\n",
       "      <td>10</td>\n",
       "      <td>10</td>\n",
       "      <td>0</td>\n",
       "      <td>2</td>\n",
       "      <td>0</td>\n",
       "    </tr>\n",
       "    <tr>\n",
       "      <th>11 True Positives</th>\n",
       "      <td>132</td>\n",
       "      <td>132</td>\n",
       "      <td>142</td>\n",
       "      <td>140</td>\n",
       "      <td>142</td>\n",
       "    </tr>\n",
       "    <tr>\n",
       "      <th>12 Train ROC Score</th>\n",
       "      <td>0.9982</td>\n",
       "      <td>0.9844</td>\n",
       "      <td>1.0000</td>\n",
       "      <td>0.9985</td>\n",
       "      <td>1.0000</td>\n",
       "    </tr>\n",
       "    <tr>\n",
       "      <th>13 Test ROC Score</th>\n",
       "      <td>0.9190</td>\n",
       "      <td>0.8732</td>\n",
       "      <td>0.9003</td>\n",
       "      <td>0.8836</td>\n",
       "      <td>0.9161</td>\n",
       "    </tr>\n",
       "  </tbody>\n",
       "</table>\n",
       "</div>"
      ],
      "text/plain": [
       "                   log_reg      nb      rf     xgb     svc\n",
       "01 Train score      0.9830  0.9490  0.9948  0.9817  1.0000\n",
       "02 Test score       0.8281  0.8490  0.8490  0.8438  0.7500\n",
       "03 Score diff       0.1549     0.1  0.1458  0.1379    0.25\n",
       "04 Precision        0.8516  0.8742  0.8304  0.8333  0.7474\n",
       "05 Specificity      0.5400  0.6200  0.4200  0.4400  0.0400\n",
       "06 Sensitivity      0.9296  0.9296  1.0000  0.9859  1.0000\n",
       "07 F1 Score         0.8889  0.9010  0.9073  0.9032  0.8554\n",
       "08 True Negatives       27      31      21      22       2\n",
       "09 False Positives      23      19      29      28      48\n",
       "10 False Negatives      10      10       0       2       0\n",
       "11 True Positives      132     132     142     140     142\n",
       "12 Train ROC Score  0.9982  0.9844  1.0000  0.9985  1.0000\n",
       "13 Test ROC Score   0.9190  0.8732  0.9003  0.8836  0.9161"
      ]
     },
     "execution_count": 176,
     "metadata": {},
     "output_type": "execute_result"
    }
   ],
   "source": [
    "pd.DataFrame(metrics)"
   ]
  },
  {
   "cell_type": "markdown",
   "metadata": {},
   "source": [
    "### MultinomialNB"
   ]
  },
  {
   "cell_type": "code",
   "execution_count": 211,
   "metadata": {},
   "outputs": [],
   "source": [
    "nb_pipe = Pipeline([\n",
    "    ('selector', get_text_data),\n",
    "    ('vectorizer', TfidfVectorizer(ngram_range=(1,2),\n",
    "                                  stop_words='english')),\n",
    "    ('sampling', SMOTE(random_state=42)),\n",
    "    ('feature_selection', SelectKBest()),\n",
    "    ('scale', MaxAbsScaler()),\n",
    "    ('clf', MultinomialNB())\n",
    "\n",
    "])\n",
    "\n",
    "nb_params = {\n",
    "\n",
    "    'feature_selection__k': [200, 400, 600, 800],\n",
    "    'feature_selection__score_func': [chi2, f_classif],\n",
    " \n",
    "}"
   ]
  },
  {
   "cell_type": "code",
   "execution_count": 212,
   "metadata": {},
   "outputs": [
    {
     "name": "stderr",
     "output_type": "stream",
     "text": [
      "/Users/jeremytan/opt/anaconda3/lib/python3.7/site-packages/sklearn/model_selection/_search.py:282: UserWarning: The total space of parameters 8 is smaller than n_iter=20. Running 8 iterations. For exhaustive searches, use GridSearchCV.\n",
      "  % (grid_size, self.n_iter, grid_size), UserWarning)\n"
     ]
    },
    {
     "name": "stdout",
     "output_type": "stream",
     "text": [
      "nb->Best params: {'feature_selection__score_func': <function chi2 at 0x7fadf16780e0>, 'feature_selection__k': 400}\n",
      "CPU times: user 2.53 s, sys: 56.5 ms, total: 2.59 s\n",
      "Wall time: 2.65 s\n"
     ]
    },
    {
     "data": {
      "image/png": "[encoded data removed]",
      "text/plain": [
       "<Figure size 864x360 with 3 Axes>"
      ]
     },
     "metadata": {},
     "output_type": "display_data"
    }
   ],
   "source": [
    "%%time\n",
    "metrics['nb'] = score_metrics('nb', nb_pipe, nb_params, X_train, y_train, \n",
    "                              X_test, y_test,'roc_auc', models, preds_df)"
   ]
  },
  {
   "cell_type": "code",
   "execution_count": 213,
   "metadata": {},
   "outputs": [
    {
     "data": {
      "text/html": [
       "<div>\n",
       "<style scoped>\n",
       "    .dataframe tbody tr th:only-of-type {\n",
       "        vertical-align: middle;\n",
       "    }\n",
       "\n",
       "    .dataframe tbody tr th {\n",
       "        vertical-align: top;\n",
       "    }\n",
       "\n",
       "    .dataframe thead th {\n",
       "        text-align: right;\n",
       "    }\n",
       "</style>\n",
       "<table border=\"1\" class=\"dataframe\">\n",
       "  <thead>\n",
       "    <tr style=\"text-align: right;\">\n",
       "      <th></th>\n",
       "      <th>log_reg</th>\n",
       "      <th>nb</th>\n",
       "      <th>rf</th>\n",
       "      <th>xgb</th>\n",
       "      <th>svc</th>\n",
       "    </tr>\n",
       "  </thead>\n",
       "  <tbody>\n",
       "    <tr>\n",
       "      <th>01 Train score</th>\n",
       "      <td>0.9830</td>\n",
       "      <td>0.9255</td>\n",
       "      <td>0.9908</td>\n",
       "      <td>0.9765</td>\n",
       "      <td>1.0000</td>\n",
       "    </tr>\n",
       "    <tr>\n",
       "      <th>02 Test score</th>\n",
       "      <td>0.8281</td>\n",
       "      <td>0.8333</td>\n",
       "      <td>0.8281</td>\n",
       "      <td>0.8490</td>\n",
       "      <td>0.8542</td>\n",
       "    </tr>\n",
       "    <tr>\n",
       "      <th>03 Score diff</th>\n",
       "      <td>0.1549</td>\n",
       "      <td>0.0922</td>\n",
       "      <td>0.1627</td>\n",
       "      <td>0.1275</td>\n",
       "      <td>0.1458</td>\n",
       "    </tr>\n",
       "    <tr>\n",
       "      <th>04 Precision</th>\n",
       "      <td>0.8516</td>\n",
       "      <td>0.8873</td>\n",
       "      <td>0.8114</td>\n",
       "      <td>0.8343</td>\n",
       "      <td>0.8519</td>\n",
       "    </tr>\n",
       "    <tr>\n",
       "      <th>05 Specificity</th>\n",
       "      <td>0.5400</td>\n",
       "      <td>0.6800</td>\n",
       "      <td>0.3400</td>\n",
       "      <td>0.4400</td>\n",
       "      <td>0.5200</td>\n",
       "    </tr>\n",
       "    <tr>\n",
       "      <th>06 Sensitivity</th>\n",
       "      <td>0.9296</td>\n",
       "      <td>0.8873</td>\n",
       "      <td>1.0000</td>\n",
       "      <td>0.9930</td>\n",
       "      <td>0.9718</td>\n",
       "    </tr>\n",
       "    <tr>\n",
       "      <th>07 F1 Score</th>\n",
       "      <td>0.8889</td>\n",
       "      <td>0.8873</td>\n",
       "      <td>0.8959</td>\n",
       "      <td>0.9068</td>\n",
       "      <td>0.9079</td>\n",
       "    </tr>\n",
       "    <tr>\n",
       "      <th>08 True Negatives</th>\n",
       "      <td>27</td>\n",
       "      <td>34</td>\n",
       "      <td>17</td>\n",
       "      <td>22</td>\n",
       "      <td>26</td>\n",
       "    </tr>\n",
       "    <tr>\n",
       "      <th>09 False Positives</th>\n",
       "      <td>23</td>\n",
       "      <td>16</td>\n",
       "      <td>33</td>\n",
       "      <td>28</td>\n",
       "      <td>24</td>\n",
       "    </tr>\n",
       "    <tr>\n",
       "      <th>10 False Negatives</th>\n",
       "      <td>10</td>\n",
       "      <td>16</td>\n",
       "      <td>0</td>\n",
       "      <td>1</td>\n",
       "      <td>4</td>\n",
       "    </tr>\n",
       "    <tr>\n",
       "      <th>11 True Positives</th>\n",
       "      <td>132</td>\n",
       "      <td>126</td>\n",
       "      <td>142</td>\n",
       "      <td>141</td>\n",
       "      <td>138</td>\n",
       "    </tr>\n",
       "    <tr>\n",
       "      <th>12 Train ROC Score</th>\n",
       "      <td>0.9982</td>\n",
       "      <td>0.9789</td>\n",
       "      <td>1.0000</td>\n",
       "      <td>0.9993</td>\n",
       "      <td>1.0000</td>\n",
       "    </tr>\n",
       "    <tr>\n",
       "      <th>13 Test ROC Score</th>\n",
       "      <td>0.9190</td>\n",
       "      <td>0.8874</td>\n",
       "      <td>0.9117</td>\n",
       "      <td>0.9030</td>\n",
       "      <td>0.9465</td>\n",
       "    </tr>\n",
       "  </tbody>\n",
       "</table>\n",
       "</div>"
      ],
      "text/plain": [
       "                   log_reg      nb      rf     xgb     svc\n",
       "01 Train score      0.9830  0.9255  0.9908  0.9765  1.0000\n",
       "02 Test score       0.8281  0.8333  0.8281  0.8490  0.8542\n",
       "03 Score diff       0.1549  0.0922  0.1627  0.1275  0.1458\n",
       "04 Precision        0.8516  0.8873  0.8114  0.8343  0.8519\n",
       "05 Specificity      0.5400  0.6800  0.3400  0.4400  0.5200\n",
       "06 Sensitivity      0.9296  0.8873  1.0000  0.9930  0.9718\n",
       "07 F1 Score         0.8889  0.8873  0.8959  0.9068  0.9079\n",
       "08 True Negatives       27      34      17      22      26\n",
       "09 False Positives      23      16      33      28      24\n",
       "10 False Negatives      10      16       0       1       4\n",
       "11 True Positives      132     126     142     141     138\n",
       "12 Train ROC Score  0.9982  0.9789  1.0000  0.9993  1.0000\n",
       "13 Test ROC Score   0.9190  0.8874  0.9117  0.9030  0.9465"
      ]
     },
     "execution_count": 213,
     "metadata": {},
     "output_type": "execute_result"
    }
   ],
   "source": [
    "pd.DataFrame(metrics)"
   ]
  },
  {
   "cell_type": "markdown",
   "metadata": {},
   "source": [
    "### RandomForest"
   ]
  },
  {
   "cell_type": "code",
   "execution_count": 180,
   "metadata": {},
   "outputs": [],
   "source": [
    "rf_pipe = Pipeline([\n",
    "\n",
    "    ('selector', get_text_data),\n",
    "    ('vectorizer', TfidfVectorizer(ngram_range=(1,2),\n",
    "                                  stop_words='english')),     \n",
    "    ('sampling', SMOTE(random_state=42)),\n",
    "    ('clf', RandomForestClassifier())\n",
    "\n",
    "])\n",
    "\n",
    "rf_params = {\n",
    "\n",
    "    \n",
    "    'clf__max_depth': [10, 20, 30, 40, 50, 60, 70, 80, 90, 100],\n",
    "    'clf__max_features': ['auto', 'sqrt'],\n",
    "    'clf__min_samples_split': [2, 5, 10],\n",
    "    'clf__n_estimators': [200, 400, 600, 800, 1000],\n",
    "    'clf__bootstrap': [True, False],\n",
    "    'clf__min_samples_leaf': [1, 2, 4],\n",
    "    \n",
    "}"
   ]
  },
  {
   "cell_type": "code",
   "execution_count": 181,
   "metadata": {},
   "outputs": [
    {
     "name": "stdout",
     "output_type": "stream",
     "text": [
      "rf->Best params: {'clf__n_estimators': 800, 'clf__min_samples_split': 2, 'clf__min_samples_leaf': 1, 'clf__max_features': 'sqrt', 'clf__max_depth': 50, 'clf__bootstrap': False}\n",
      "CPU times: user 2min 21s, sys: 1.6 s, total: 2min 22s\n",
      "Wall time: 2min 24s\n"
     ]
    },
    {
     "data": {
      "image/png": "[encoded data removed]",
      "text/plain": [
       "<Figure size 864x360 with 3 Axes>"
      ]
     },
     "metadata": {},
     "output_type": "display_data"
    }
   ],
   "source": [
    "%%time\n",
    "metrics['rf'] = score_metrics('rf', rf_pipe, rf_params, X_train, y_train, \n",
    "                              X_test, y_test,'roc_auc', models, preds_df)"
   ]
  },
  {
   "cell_type": "code",
   "execution_count": 182,
   "metadata": {
    "scrolled": false
   },
   "outputs": [
    {
     "data": {
      "text/html": [
       "<div>\n",
       "<style scoped>\n",
       "    .dataframe tbody tr th:only-of-type {\n",
       "        vertical-align: middle;\n",
       "    }\n",
       "\n",
       "    .dataframe tbody tr th {\n",
       "        vertical-align: top;\n",
       "    }\n",
       "\n",
       "    .dataframe thead th {\n",
       "        text-align: right;\n",
       "    }\n",
       "</style>\n",
       "<table border=\"1\" class=\"dataframe\">\n",
       "  <thead>\n",
       "    <tr style=\"text-align: right;\">\n",
       "      <th></th>\n",
       "      <th>log_reg</th>\n",
       "      <th>nb</th>\n",
       "      <th>rf</th>\n",
       "      <th>xgb</th>\n",
       "      <th>svc</th>\n",
       "    </tr>\n",
       "  </thead>\n",
       "  <tbody>\n",
       "    <tr>\n",
       "      <th>01 Train score</th>\n",
       "      <td>0.9830</td>\n",
       "      <td>0.9490</td>\n",
       "      <td>0.9908</td>\n",
       "      <td>0.9817</td>\n",
       "      <td>1.0000</td>\n",
       "    </tr>\n",
       "    <tr>\n",
       "      <th>02 Test score</th>\n",
       "      <td>0.8281</td>\n",
       "      <td>0.8490</td>\n",
       "      <td>0.8281</td>\n",
       "      <td>0.8438</td>\n",
       "      <td>0.7500</td>\n",
       "    </tr>\n",
       "    <tr>\n",
       "      <th>03 Score diff</th>\n",
       "      <td>0.1549</td>\n",
       "      <td>0.1</td>\n",
       "      <td>0.1627</td>\n",
       "      <td>0.1379</td>\n",
       "      <td>0.25</td>\n",
       "    </tr>\n",
       "    <tr>\n",
       "      <th>04 Precision</th>\n",
       "      <td>0.8516</td>\n",
       "      <td>0.8742</td>\n",
       "      <td>0.8114</td>\n",
       "      <td>0.8333</td>\n",
       "      <td>0.7474</td>\n",
       "    </tr>\n",
       "    <tr>\n",
       "      <th>05 Specificity</th>\n",
       "      <td>0.5400</td>\n",
       "      <td>0.6200</td>\n",
       "      <td>0.3400</td>\n",
       "      <td>0.4400</td>\n",
       "      <td>0.0400</td>\n",
       "    </tr>\n",
       "    <tr>\n",
       "      <th>06 Sensitivity</th>\n",
       "      <td>0.9296</td>\n",
       "      <td>0.9296</td>\n",
       "      <td>1.0000</td>\n",
       "      <td>0.9859</td>\n",
       "      <td>1.0000</td>\n",
       "    </tr>\n",
       "    <tr>\n",
       "      <th>07 F1 Score</th>\n",
       "      <td>0.8889</td>\n",
       "      <td>0.9010</td>\n",
       "      <td>0.8959</td>\n",
       "      <td>0.9032</td>\n",
       "      <td>0.8554</td>\n",
       "    </tr>\n",
       "    <tr>\n",
       "      <th>08 True Negatives</th>\n",
       "      <td>27</td>\n",
       "      <td>31</td>\n",
       "      <td>17</td>\n",
       "      <td>22</td>\n",
       "      <td>2</td>\n",
       "    </tr>\n",
       "    <tr>\n",
       "      <th>09 False Positives</th>\n",
       "      <td>23</td>\n",
       "      <td>19</td>\n",
       "      <td>33</td>\n",
       "      <td>28</td>\n",
       "      <td>48</td>\n",
       "    </tr>\n",
       "    <tr>\n",
       "      <th>10 False Negatives</th>\n",
       "      <td>10</td>\n",
       "      <td>10</td>\n",
       "      <td>0</td>\n",
       "      <td>2</td>\n",
       "      <td>0</td>\n",
       "    </tr>\n",
       "    <tr>\n",
       "      <th>11 True Positives</th>\n",
       "      <td>132</td>\n",
       "      <td>132</td>\n",
       "      <td>142</td>\n",
       "      <td>140</td>\n",
       "      <td>142</td>\n",
       "    </tr>\n",
       "    <tr>\n",
       "      <th>12 Train ROC Score</th>\n",
       "      <td>0.9982</td>\n",
       "      <td>0.9844</td>\n",
       "      <td>1.0000</td>\n",
       "      <td>0.9985</td>\n",
       "      <td>1.0000</td>\n",
       "    </tr>\n",
       "    <tr>\n",
       "      <th>13 Test ROC Score</th>\n",
       "      <td>0.9190</td>\n",
       "      <td>0.8732</td>\n",
       "      <td>0.9117</td>\n",
       "      <td>0.8836</td>\n",
       "      <td>0.9161</td>\n",
       "    </tr>\n",
       "  </tbody>\n",
       "</table>\n",
       "</div>"
      ],
      "text/plain": [
       "                   log_reg      nb      rf     xgb     svc\n",
       "01 Train score      0.9830  0.9490  0.9908  0.9817  1.0000\n",
       "02 Test score       0.8281  0.8490  0.8281  0.8438  0.7500\n",
       "03 Score diff       0.1549     0.1  0.1627  0.1379    0.25\n",
       "04 Precision        0.8516  0.8742  0.8114  0.8333  0.7474\n",
       "05 Specificity      0.5400  0.6200  0.3400  0.4400  0.0400\n",
       "06 Sensitivity      0.9296  0.9296  1.0000  0.9859  1.0000\n",
       "07 F1 Score         0.8889  0.9010  0.8959  0.9032  0.8554\n",
       "08 True Negatives       27      31      17      22       2\n",
       "09 False Positives      23      19      33      28      48\n",
       "10 False Negatives      10      10       0       2       0\n",
       "11 True Positives      132     132     142     140     142\n",
       "12 Train ROC Score  0.9982  0.9844  1.0000  0.9985  1.0000\n",
       "13 Test ROC Score   0.9190  0.8732  0.9117  0.8836  0.9161"
      ]
     },
     "execution_count": 182,
     "metadata": {},
     "output_type": "execute_result"
    }
   ],
   "source": [
    "pd.DataFrame(metrics)"
   ]
  },
  {
   "cell_type": "markdown",
   "metadata": {},
   "source": [
    "### XGBoost"
   ]
  },
  {
   "cell_type": "code",
   "execution_count": 189,
   "metadata": {},
   "outputs": [],
   "source": [
    "xgb_pipe = Pipeline([\n",
    "\n",
    "    ('selector', get_text_data),\n",
    "    ('vectorizer', TfidfVectorizer(ngram_range=(1,2),\n",
    "                                  stop_words='english')),   \n",
    "    ('sampling', SMOTE(random_state=42)),\n",
    "    ('clf', XGBClassifier())\n",
    "\n",
    "])\n",
    "\n",
    "xgb_params = {\n",
    "\n",
    "    'clf__max_depth': [ 3, 4, 5, 6, 8, 10, 12, 15],\n",
    "    'clf__learning_rate': [0.05, 0.10, 0.15, 0.20, 0.25, 0.30 ],\n",
    "    'clf__\"min_child_weight': [ 1, 3, 5, 7 ],\n",
    "    'clf__gamma': [ 0.0, 0.1, 0.2 , 0.3, 0.4 ],\n",
    "    'clf__colsample_bytree': [ 0.3, 0.4, 0.5 , 0.7 ]\n",
    "    \n",
    "\n",
    "}"
   ]
  },
  {
   "cell_type": "code",
   "execution_count": 190,
   "metadata": {},
   "outputs": [
    {
     "name": "stdout",
     "output_type": "stream",
     "text": [
      "xgb->Best params: {'clf__max_depth': 10, 'clf__learning_rate': 0.1, 'clf__gamma': 0.4, 'clf__colsample_bytree': 0.3, 'clf__\"min_child_weight': 5}\n",
      "CPU times: user 5min 17s, sys: 1.27 s, total: 5min 18s\n",
      "Wall time: 5min 22s\n"
     ]
    },
    {
     "data": {
      "image/png": "[encoded data removed]",
      "text/plain": [
       "<Figure size 864x360 with 3 Axes>"
      ]
     },
     "metadata": {},
     "output_type": "display_data"
    }
   ],
   "source": [
    "%%time\n",
    "metrics['xgb'] = score_metrics('xgb', xgb_pipe, xgb_params, X_train, y_train, \n",
    "                              X_test, y_test,'roc_auc', models, preds_df)"
   ]
  },
  {
   "cell_type": "code",
   "execution_count": 191,
   "metadata": {},
   "outputs": [
    {
     "data": {
      "text/html": [
       "<div>\n",
       "<style scoped>\n",
       "    .dataframe tbody tr th:only-of-type {\n",
       "        vertical-align: middle;\n",
       "    }\n",
       "\n",
       "    .dataframe tbody tr th {\n",
       "        vertical-align: top;\n",
       "    }\n",
       "\n",
       "    .dataframe thead th {\n",
       "        text-align: right;\n",
       "    }\n",
       "</style>\n",
       "<table border=\"1\" class=\"dataframe\">\n",
       "  <thead>\n",
       "    <tr style=\"text-align: right;\">\n",
       "      <th></th>\n",
       "      <th>log_reg</th>\n",
       "      <th>nb</th>\n",
       "      <th>rf</th>\n",
       "      <th>xgb</th>\n",
       "      <th>svc</th>\n",
       "    </tr>\n",
       "  </thead>\n",
       "  <tbody>\n",
       "    <tr>\n",
       "      <th>01 Train score</th>\n",
       "      <td>0.9830</td>\n",
       "      <td>0.9490</td>\n",
       "      <td>0.9908</td>\n",
       "      <td>0.9765</td>\n",
       "      <td>1.0000</td>\n",
       "    </tr>\n",
       "    <tr>\n",
       "      <th>02 Test score</th>\n",
       "      <td>0.8281</td>\n",
       "      <td>0.8490</td>\n",
       "      <td>0.8281</td>\n",
       "      <td>0.8490</td>\n",
       "      <td>0.8646</td>\n",
       "    </tr>\n",
       "    <tr>\n",
       "      <th>03 Score diff</th>\n",
       "      <td>0.1549</td>\n",
       "      <td>0.1</td>\n",
       "      <td>0.1627</td>\n",
       "      <td>0.1275</td>\n",
       "      <td>0.1354</td>\n",
       "    </tr>\n",
       "    <tr>\n",
       "      <th>04 Precision</th>\n",
       "      <td>0.8516</td>\n",
       "      <td>0.8742</td>\n",
       "      <td>0.8114</td>\n",
       "      <td>0.8343</td>\n",
       "      <td>0.8580</td>\n",
       "    </tr>\n",
       "    <tr>\n",
       "      <th>05 Specificity</th>\n",
       "      <td>0.5400</td>\n",
       "      <td>0.6200</td>\n",
       "      <td>0.3400</td>\n",
       "      <td>0.4400</td>\n",
       "      <td>0.5400</td>\n",
       "    </tr>\n",
       "    <tr>\n",
       "      <th>06 Sensitivity</th>\n",
       "      <td>0.9296</td>\n",
       "      <td>0.9296</td>\n",
       "      <td>1.0000</td>\n",
       "      <td>0.9930</td>\n",
       "      <td>0.9789</td>\n",
       "    </tr>\n",
       "    <tr>\n",
       "      <th>07 F1 Score</th>\n",
       "      <td>0.8889</td>\n",
       "      <td>0.9010</td>\n",
       "      <td>0.8959</td>\n",
       "      <td>0.9068</td>\n",
       "      <td>0.9145</td>\n",
       "    </tr>\n",
       "    <tr>\n",
       "      <th>08 True Negatives</th>\n",
       "      <td>27</td>\n",
       "      <td>31</td>\n",
       "      <td>17</td>\n",
       "      <td>22</td>\n",
       "      <td>27</td>\n",
       "    </tr>\n",
       "    <tr>\n",
       "      <th>09 False Positives</th>\n",
       "      <td>23</td>\n",
       "      <td>19</td>\n",
       "      <td>33</td>\n",
       "      <td>28</td>\n",
       "      <td>23</td>\n",
       "    </tr>\n",
       "    <tr>\n",
       "      <th>10 False Negatives</th>\n",
       "      <td>10</td>\n",
       "      <td>10</td>\n",
       "      <td>0</td>\n",
       "      <td>1</td>\n",
       "      <td>3</td>\n",
       "    </tr>\n",
       "    <tr>\n",
       "      <th>11 True Positives</th>\n",
       "      <td>132</td>\n",
       "      <td>132</td>\n",
       "      <td>142</td>\n",
       "      <td>141</td>\n",
       "      <td>139</td>\n",
       "    </tr>\n",
       "    <tr>\n",
       "      <th>12 Train ROC Score</th>\n",
       "      <td>0.9982</td>\n",
       "      <td>0.9844</td>\n",
       "      <td>1.0000</td>\n",
       "      <td>0.9993</td>\n",
       "      <td>1.0000</td>\n",
       "    </tr>\n",
       "    <tr>\n",
       "      <th>13 Test ROC Score</th>\n",
       "      <td>0.9190</td>\n",
       "      <td>0.8732</td>\n",
       "      <td>0.9117</td>\n",
       "      <td>0.9030</td>\n",
       "      <td>0.9448</td>\n",
       "    </tr>\n",
       "  </tbody>\n",
       "</table>\n",
       "</div>"
      ],
      "text/plain": [
       "                   log_reg      nb      rf     xgb     svc\n",
       "01 Train score      0.9830  0.9490  0.9908  0.9765  1.0000\n",
       "02 Test score       0.8281  0.8490  0.8281  0.8490  0.8646\n",
       "03 Score diff       0.1549     0.1  0.1627  0.1275  0.1354\n",
       "04 Precision        0.8516  0.8742  0.8114  0.8343  0.8580\n",
       "05 Specificity      0.5400  0.6200  0.3400  0.4400  0.5400\n",
       "06 Sensitivity      0.9296  0.9296  1.0000  0.9930  0.9789\n",
       "07 F1 Score         0.8889  0.9010  0.8959  0.9068  0.9145\n",
       "08 True Negatives       27      31      17      22      27\n",
       "09 False Positives      23      19      33      28      23\n",
       "10 False Negatives      10      10       0       1       3\n",
       "11 True Positives      132     132     142     141     139\n",
       "12 Train ROC Score  0.9982  0.9844  1.0000  0.9993  1.0000\n",
       "13 Test ROC Score   0.9190  0.8732  0.9117  0.9030  0.9448"
      ]
     },
     "execution_count": 191,
     "metadata": {},
     "output_type": "execute_result"
    }
   ],
   "source": [
    "pd.DataFrame(metrics)"
   ]
  },
  {
   "cell_type": "markdown",
   "metadata": {},
   "source": [
    "### SVC"
   ]
  },
  {
   "cell_type": "code",
   "execution_count": 192,
   "metadata": {},
   "outputs": [],
   "source": [
    "svc_pipe = Pipeline([\n",
    "\n",
    "    ('selector', get_text_data),\n",
    "    ('vectorizer', TfidfVectorizer(ngram_range=(1,2),\n",
    "                                  stop_words='english')), \n",
    "    ('sampling', SMOTE(random_state=42)),\n",
    "    ('scale', MaxAbsScaler()),\n",
    "    ('clf', SVC(probability=True)),\n",
    "\n",
    "])\n",
    "\n",
    "svc_params = {\n",
    "    \n",
    "    'clf__kernel': ['rbf', 'poly'],\n",
    "    'clf__gamma': [0.1, 1, 10, 100],\n",
    "    'clf__C': [0.1, 1, 10, 100, 1000],\n",
    "    'clf__degree': [0, 1, 2, 3, 4, 5, 6]\n",
    "}"
   ]
  },
  {
   "cell_type": "code",
   "execution_count": 193,
   "metadata": {},
   "outputs": [
    {
     "name": "stdout",
     "output_type": "stream",
     "text": [
      "svc->Best params: {'clf__kernel': 'poly', 'clf__gamma': 1, 'clf__degree': 1, 'clf__C': 0.1}\n",
      "CPU times: user 1min 45s, sys: 421 ms, total: 1min 45s\n",
      "Wall time: 1min 46s\n"
     ]
    },
    {
     "data": {
      "image/png": "[encoded data removed]",
      "text/plain": [
       "<Figure size 864x360 with 3 Axes>"
      ]
     },
     "metadata": {},
     "output_type": "display_data"
    }
   ],
   "source": [
    "%%time\n",
    "metrics['svc'] = score_metrics('svc', svc_pipe, svc_params, X_train, y_train, \n",
    "                              X_test, y_test,'roc_auc', models, preds_df)"
   ]
  },
  {
   "cell_type": "code",
   "execution_count": 194,
   "metadata": {},
   "outputs": [
    {
     "data": {
      "text/html": [
       "<div>\n",
       "<style scoped>\n",
       "    .dataframe tbody tr th:only-of-type {\n",
       "        vertical-align: middle;\n",
       "    }\n",
       "\n",
       "    .dataframe tbody tr th {\n",
       "        vertical-align: top;\n",
       "    }\n",
       "\n",
       "    .dataframe thead th {\n",
       "        text-align: right;\n",
       "    }\n",
       "</style>\n",
       "<table border=\"1\" class=\"dataframe\">\n",
       "  <thead>\n",
       "    <tr style=\"text-align: right;\">\n",
       "      <th></th>\n",
       "      <th>log_reg</th>\n",
       "      <th>nb</th>\n",
       "      <th>rf</th>\n",
       "      <th>xgb</th>\n",
       "      <th>svc</th>\n",
       "    </tr>\n",
       "  </thead>\n",
       "  <tbody>\n",
       "    <tr>\n",
       "      <th>01 Train score</th>\n",
       "      <td>0.9830</td>\n",
       "      <td>0.9490</td>\n",
       "      <td>0.9908</td>\n",
       "      <td>0.9765</td>\n",
       "      <td>1.0000</td>\n",
       "    </tr>\n",
       "    <tr>\n",
       "      <th>02 Test score</th>\n",
       "      <td>0.8281</td>\n",
       "      <td>0.8490</td>\n",
       "      <td>0.8281</td>\n",
       "      <td>0.8490</td>\n",
       "      <td>0.8542</td>\n",
       "    </tr>\n",
       "    <tr>\n",
       "      <th>03 Score diff</th>\n",
       "      <td>0.1549</td>\n",
       "      <td>0.1</td>\n",
       "      <td>0.1627</td>\n",
       "      <td>0.1275</td>\n",
       "      <td>0.1458</td>\n",
       "    </tr>\n",
       "    <tr>\n",
       "      <th>04 Precision</th>\n",
       "      <td>0.8516</td>\n",
       "      <td>0.8742</td>\n",
       "      <td>0.8114</td>\n",
       "      <td>0.8343</td>\n",
       "      <td>0.8519</td>\n",
       "    </tr>\n",
       "    <tr>\n",
       "      <th>05 Specificity</th>\n",
       "      <td>0.5400</td>\n",
       "      <td>0.6200</td>\n",
       "      <td>0.3400</td>\n",
       "      <td>0.4400</td>\n",
       "      <td>0.5200</td>\n",
       "    </tr>\n",
       "    <tr>\n",
       "      <th>06 Sensitivity</th>\n",
       "      <td>0.9296</td>\n",
       "      <td>0.9296</td>\n",
       "      <td>1.0000</td>\n",
       "      <td>0.9930</td>\n",
       "      <td>0.9718</td>\n",
       "    </tr>\n",
       "    <tr>\n",
       "      <th>07 F1 Score</th>\n",
       "      <td>0.8889</td>\n",
       "      <td>0.9010</td>\n",
       "      <td>0.8959</td>\n",
       "      <td>0.9068</td>\n",
       "      <td>0.9079</td>\n",
       "    </tr>\n",
       "    <tr>\n",
       "      <th>08 True Negatives</th>\n",
       "      <td>27</td>\n",
       "      <td>31</td>\n",
       "      <td>17</td>\n",
       "      <td>22</td>\n",
       "      <td>26</td>\n",
       "    </tr>\n",
       "    <tr>\n",
       "      <th>09 False Positives</th>\n",
       "      <td>23</td>\n",
       "      <td>19</td>\n",
       "      <td>33</td>\n",
       "      <td>28</td>\n",
       "      <td>24</td>\n",
       "    </tr>\n",
       "    <tr>\n",
       "      <th>10 False Negatives</th>\n",
       "      <td>10</td>\n",
       "      <td>10</td>\n",
       "      <td>0</td>\n",
       "      <td>1</td>\n",
       "      <td>4</td>\n",
       "    </tr>\n",
       "    <tr>\n",
       "      <th>11 True Positives</th>\n",
       "      <td>132</td>\n",
       "      <td>132</td>\n",
       "      <td>142</td>\n",
       "      <td>141</td>\n",
       "      <td>138</td>\n",
       "    </tr>\n",
       "    <tr>\n",
       "      <th>12 Train ROC Score</th>\n",
       "      <td>0.9982</td>\n",
       "      <td>0.9844</td>\n",
       "      <td>1.0000</td>\n",
       "      <td>0.9993</td>\n",
       "      <td>1.0000</td>\n",
       "    </tr>\n",
       "    <tr>\n",
       "      <th>13 Test ROC Score</th>\n",
       "      <td>0.9190</td>\n",
       "      <td>0.8732</td>\n",
       "      <td>0.9117</td>\n",
       "      <td>0.9030</td>\n",
       "      <td>0.9465</td>\n",
       "    </tr>\n",
       "  </tbody>\n",
       "</table>\n",
       "</div>"
      ],
      "text/plain": [
       "                   log_reg      nb      rf     xgb     svc\n",
       "01 Train score      0.9830  0.9490  0.9908  0.9765  1.0000\n",
       "02 Test score       0.8281  0.8490  0.8281  0.8490  0.8542\n",
       "03 Score diff       0.1549     0.1  0.1627  0.1275  0.1458\n",
       "04 Precision        0.8516  0.8742  0.8114  0.8343  0.8519\n",
       "05 Specificity      0.5400  0.6200  0.3400  0.4400  0.5200\n",
       "06 Sensitivity      0.9296  0.9296  1.0000  0.9930  0.9718\n",
       "07 F1 Score         0.8889  0.9010  0.8959  0.9068  0.9079\n",
       "08 True Negatives       27      31      17      22      26\n",
       "09 False Positives      23      19      33      28      24\n",
       "10 False Negatives      10      10       0       1       4\n",
       "11 True Positives      132     132     142     141     138\n",
       "12 Train ROC Score  0.9982  0.9844  1.0000  0.9993  1.0000\n",
       "13 Test ROC Score   0.9190  0.8732  0.9117  0.9030  0.9465"
      ]
     },
     "execution_count": 194,
     "metadata": {},
     "output_type": "execute_result"
    }
   ],
   "source": [
    "pd.DataFrame(metrics)"
   ]
  },
  {
   "cell_type": "code",
   "execution_count": null,
   "metadata": {},
   "outputs": [],
   "source": []
  },
  {
   "cell_type": "markdown",
   "metadata": {},
   "source": [
    "## Model Selection : MultinomialNB"
   ]
  },
  {
   "cell_type": "markdown",
   "metadata": {},
   "source": [
    "After comparing the 5 models, MultinomialNB has the best accuracy score. All models seems to be slightly overfitted. The test score for all 5 models hover around 0.8 and MNB has the lowest false positives which is important when we deploy this model for trading. Trading on false positives might result financial loss. Hence we rather to missed good trade than to trade on false signals. "
   ]
  },
  {
   "cell_type": "code",
   "execution_count": 222,
   "metadata": {},
   "outputs": [],
   "source": [
    "def get_feature_impt(model):\n",
    "    coef = models[model].best_estimator_['clf'].coef_[0]\n",
    "    features_name = models[model].best_estimator_['vectorizer'].get_feature_names()\n",
    "    features_select = models[model].best_estimator_['feature_selection'].get_support()\n",
    "    \n",
    "    impt_features = []\n",
    "\n",
    "    for bool, feature in zip(features_select, features_name):\n",
    "        if bool:\n",
    "            impt_features.append(feature)\n",
    "        \n",
    "    return pd.DataFrame(zip(impt_features,feature_impt), columns=['feature', 'importance'])"
   ]
  },
  {
   "cell_type": "code",
   "execution_count": null,
   "metadata": {},
   "outputs": [],
   "source": [
    "features = get_feature_impt('nb')"
   ]
  },
  {
   "cell_type": "code",
   "execution_count": 247,
   "metadata": {},
   "outputs": [
    {
     "data": {
      "image/png": "[encoded data removed]",
      "text/plain": [
       "<Figure size 720x576 with 1 Axes>"
      ]
     },
     "metadata": {},
     "output_type": "display_data"
    }
   ],
   "source": [
    "fig, ax = plt.subplots(figsize=(10,8))\n",
    "mask = features.sort_values(by='importance', ascending=False).head(10)\n",
    "mask.plot(kind='barh' ,ax=ax)\n",
    "ax.set_yticklabels([name.capitalize() for name in mask['feature']]);\n",
    "ax.set_ylabel('Features')\n",
    "ax.set_xlabel('Importance')\n",
    "fig.gca().invert_yaxis()"
   ]
  },
  {
   "cell_type": "markdown",
   "metadata": {},
   "source": [
    "## Recommendation: Backtesting \n",
    "\n",
    "Based on the predictions, i have created a simple trading strategy to backtest on the S&P500. We will be focusing only on buy signals for this strategy. 1 indicating buy signal and 0 to do nothing. The strategy is to buy at close and sell at tomorrow’s close if the tweet is predicted 1. "
   ]
  },
  {
   "cell_type": "code",
   "execution_count": 415,
   "metadata": {},
   "outputs": [
    {
     "name": "stdout",
     "output_type": "stream",
     "text": [
      "<class 'pandas.core.frame.DataFrame'>\n",
      "RangeIndex: 937 entries, 0 to 936\n",
      "Data columns (total 9 columns):\n",
      " #   Column       Non-Null Count  Dtype  \n",
      "---  ------       --------------  -----  \n",
      " 0   date         937 non-null    object \n",
      " 1   open         937 non-null    float64\n",
      " 2   high         937 non-null    float64\n",
      " 3   low          937 non-null    float64\n",
      " 4   close        937 non-null    float64\n",
      " 5   volume       937 non-null    int64  \n",
      " 6   change_pc    937 non-null    float64\n",
      " 7   target       937 non-null    int64  \n",
      " 8   prev_change  937 non-null    float64\n",
      "dtypes: float64(6), int64(2), object(1)\n",
      "memory usage: 66.0+ KB\n"
     ]
    }
   ],
   "source": [
    "#load the S&P 500 data \n",
    "market = pd.read_csv('../datasets/cleaned_market.csv')\n",
    "market.info()"
   ]
  },
  {
   "cell_type": "code",
   "execution_count": 416,
   "metadata": {},
   "outputs": [],
   "source": [
    "#set the datetime format\n",
    "market.date = pd.to_datetime(market.date)\n",
    "market.set_index('date', inplace=True)"
   ]
  },
  {
   "cell_type": "code",
   "execution_count": 417,
   "metadata": {},
   "outputs": [],
   "source": [
    "#drop unneccessary columns\n",
    "market.drop(columns=['prev_change'], inplace=True)"
   ]
  },
  {
   "cell_type": "code",
   "execution_count": 418,
   "metadata": {},
   "outputs": [],
   "source": [
    "#create a copy of the predictions that i have created during the modeling\n",
    "preds = preds_df.copy()"
   ]
  },
  {
   "cell_type": "code",
   "execution_count": 419,
   "metadata": {},
   "outputs": [],
   "source": [
    "#set datetime format\n",
    "preds.trade_date = pd.to_datetime(preds.trade_date)"
   ]
  },
  {
   "cell_type": "code",
   "execution_count": 420,
   "metadata": {},
   "outputs": [],
   "source": [
    "#sort the prediction by dates\n",
    "preds = preds.sort_values(by='trade_date')"
   ]
  },
  {
   "cell_type": "code",
   "execution_count": 421,
   "metadata": {},
   "outputs": [],
   "source": [
    "#filter only NB predictions together with the date and text\n",
    "preds = preds[['trade_date', 'text', 'nb']]\n",
    "preds.rename(columns={'trade_date': 'date'}, inplace=True)"
   ]
  },
  {
   "cell_type": "code",
   "execution_count": 422,
   "metadata": {},
   "outputs": [],
   "source": [
    "#merge the prediction to the market data\n",
    "preds = pd.merge(market, preds, how='outer', on='date')"
   ]
  },
  {
   "cell_type": "code",
   "execution_count": 423,
   "metadata": {},
   "outputs": [],
   "source": [
    "#set datetime as index\n",
    "preds.set_index('date', inplace=True)"
   ]
  },
  {
   "cell_type": "code",
   "execution_count": 424,
   "metadata": {},
   "outputs": [
    {
     "data": {
      "text/plain": [
       "open          62\n",
       "high          62\n",
       "low           62\n",
       "close         62\n",
       "volume        62\n",
       "change_pc     62\n",
       "target        62\n",
       "text         817\n",
       "nb           817\n",
       "dtype: int64"
      ]
     },
     "execution_count": 424,
     "metadata": {},
     "output_type": "execute_result"
    }
   ],
   "source": [
    "#check for nulls\n",
    "preds.isnull().sum()"
   ]
  },
  {
   "cell_type": "code",
   "execution_count": 425,
   "metadata": {},
   "outputs": [],
   "source": [
    "#the duplicates here suggest that there are multiple buy signals on the same day \n",
    "#therefore we drop these duplicates\n",
    "preds = preds.drop_duplicates(subset=[col for col in preds.columns if col != 'text'])"
   ]
  },
  {
   "cell_type": "code",
   "execution_count": 426,
   "metadata": {},
   "outputs": [
    {
     "data": {
      "text/plain": [
       "open           2\n",
       "high           2\n",
       "low            2\n",
       "close          2\n",
       "volume         2\n",
       "change_pc      2\n",
       "target         2\n",
       "text         817\n",
       "nb           817\n",
       "dtype: int64"
      ]
     },
     "execution_count": 426,
     "metadata": {},
     "output_type": "execute_result"
    }
   ],
   "source": [
    "preds.isnull().sum()"
   ]
  },
  {
   "cell_type": "code",
   "execution_count": 427,
   "metadata": {},
   "outputs": [],
   "source": [
    "#fill null with 0 since we will only be focusing on buy signals\n",
    "preds['nb'].fillna(0, inplace=True)"
   ]
  },
  {
   "cell_type": "code",
   "execution_count": 428,
   "metadata": {},
   "outputs": [],
   "source": [
    "preds = preds[:-2].copy()"
   ]
  },
  {
   "cell_type": "code",
   "execution_count": 429,
   "metadata": {},
   "outputs": [],
   "source": [
    "#create new columns for cumulative returns for NB model and S&P 500 \n",
    "preds['nb_returns'] = (preds['nb'] * preds['change_pc']) \n",
    "preds['cum_returns'] = (preds['change_pc'] + 1).cumprod() - 1\n",
    "preds['nb_cum_returns'] = (preds['nb_returns'] + 1).cumprod() - 1"
   ]
  },
  {
   "cell_type": "code",
   "execution_count": 373,
   "metadata": {},
   "outputs": [],
   "source": [
    "#a list of all buy signals and it's cumulative returns\n",
    "long_trades = preds.loc[preds['nb'] == 1, 'cum_returns']"
   ]
  },
  {
   "cell_type": "code",
   "execution_count": 432,
   "metadata": {},
   "outputs": [
    {
     "data": {
      "text/plain": [
       "<matplotlib.legend.Legend at 0x7faddfc36150>"
      ]
     },
     "execution_count": 432,
     "metadata": {},
     "output_type": "execute_result"
    },
    {
     "data": {
      "image/png": "[encoded data removed]",
      "text/plain": [
       "<Figure size 864x576 with 1 Axes>"
      ]
     },
     "metadata": {},
     "output_type": "display_data"
    }
   ],
   "source": [
    "#plot the backtesting strategy \n",
    "fig, ax = plt.subplots(figsize=(12,8))\n",
    "preds['cum_returns'].plot(label='S&P 500')\n",
    "preds['nb_cum_returns'].plot(label='Portfolio', c='green')\n",
    "ax.set_xlabel('Date')\n",
    "ax.set_ylabel('Cumulative Returns')\n",
    "\n",
    "for k,v in long_trades.iteritems():\n",
    "    ax.annotate(' ', xy=(k, v), xycoords='data',\n",
    "            arrowprops=dict(facecolor='red', mutation_aspect=1, mutation_scale=0.7),)\n",
    "\n",
    "ax.set_title(\"Day Trade vs Buy and Hold\", fontsize=20)\n",
    "ax.legend()"
   ]
  },
  {
   "cell_type": "markdown",
   "metadata": {},
   "source": [
    "The trading strategy based on our prediction model returned a 72% vs a buy and hold strategy of 52% over the same period of time. "
   ]
  },
  {
   "cell_type": "markdown",
   "metadata": {},
   "source": [
    "# Conclusion"
   ]
  },
  {
   "cell_type": "code",
   "execution_count": null,
   "metadata": {},
   "outputs": [],
   "source": []
  }
 ],
 "metadata": {
  "kernelspec": {
   "display_name": "Python 3",
   "language": "python",
   "name": "python3"
  },
  "language_info": {
   "codemirror_mode": {
    "name": "ipython",
    "version": 3
   },
   "file_extension": ".py",
   "mimetype": "text/x-python",
   "name": "python",
   "nbconvert_exporter": "python",
   "pygments_lexer": "ipython3",
   "version": "3.7.6"
  }
 },
 "nbformat": 4,
 "nbformat_minor": 4
}
